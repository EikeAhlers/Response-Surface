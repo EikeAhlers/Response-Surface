{
 "cells": [
  {
   "cell_type": "markdown",
   "metadata": {
    "slideshow": {
     "slide_type": "slide"
    }
   },
   "source": [
    "## <center> Response Surface Methode <br> am Beispiel Bieranalytik <center>\n",
    "#    <center> von Eike Ahlers <center>"
   ]
  },
  {
   "cell_type": "markdown",
   "metadata": {
    "slideshow": {
     "slide_type": "slide"
    }
   },
   "source": [
    "# <center>Gliederung<center>\n",
    "\n",
    "- Grundlagen\n",
    "- Vorgehensweise\n",
    "- Anwendungsbeispiele\n"
   ]
  },
  {
   "cell_type": "markdown",
   "metadata": {
    "slideshow": {
     "slide_type": "slide"
    }
   },
   "source": [
    "# <center>Grundlagen<center>"
   ]
  },
  {
   "cell_type": "markdown",
   "metadata": {
    "slideshow": {
     "slide_type": "fragment"
    }
   },
   "source": [
    "# <center>Was ist die Response Surface Methode<center>\n",
    "\n",
    "- Sammlung statischer und mathematischer Methoden zur Optimierung von Systemen\n",
    "- Die Auswirkung y ist Abhängig von den jeweiligen Faktoren und einem unbekannten Fehler ε\n",
    "- Das Optimum der Auswirkung wird über lineare Modelle angenähert und über quadratische Model prognostiziert.\n",
    "\n"
   ]
  },
  {
   "cell_type": "markdown",
   "metadata": {
    "slideshow": {
     "slide_type": "subslide"
    }
   },
   "source": [
    "# <center>Ziele der RSM<center>\n",
    "\n",
    "- Prozessoptimierung\n",
    "- beste Kombination von Variablen mit dem größten Response\n",
    "- möglichst wenige Experimente"
   ]
  },
  {
   "cell_type": "markdown",
   "metadata": {
    "slideshow": {
     "slide_type": "subslide"
    }
   },
   "source": [
    "## <center>Idee der RSM<center>\n",
    "\n",
    "- Aus Experimente weites vorgehen erschließen\n",
    "- Resultat der Modelbildung ist eine Gleichung\n"
   ]
  },
  {
   "cell_type": "markdown",
   "metadata": {
    "slideshow": {
     "slide_type": "subslide"
    }
   },
   "source": [
    "## <center>Nachteil One-Faktor-At-A-Time<center>\n",
    "\n",
    "- RSM = Änderung mehrerer Faktoren pro Experiment\n",
    "- COST = Änderungng eines Faktors pro Experiment"
   ]
  },
  {
   "cell_type": "markdown",
   "metadata": {
    "slideshow": {
     "slide_type": "fragment"
    }
   },
   "source": [
    "<center><video data-autoplay src=\"test.mp4\"></video><center>"
   ]
  },
  {
   "cell_type": "markdown",
   "metadata": {
    "slideshow": {
     "slide_type": "slide"
    }
   },
   "source": [
    "# <center>Vorgehensweise<center>\n",
    "<center><img src=\"RSM1.png\"  height=\"400\" width=\"800\"><center>\n"
   ]
  },
  {
   "cell_type": "markdown",
   "metadata": {
    "slideshow": {
     "slide_type": "fragment"
    }
   },
   "source": [
    "Der optimale Betriebsbereich y befindet sich im roten Bereich. Es wird versucht den Prozess immer näher in diesen Bereich zu bewegen.\n",
    "Zunächst befindet sich der Prozess weit weg und wird mittels faktorielle Experimente in Richtung des optimane Responses gelenkt.\n",
    "Befindet sich der Prozess in der Nähe vom Optimum werden genauere Methoden angewendet. \n",
    "So wird der Rahmen der Untersuchungen immer weiter in Richtung des Optimums geleitet."
   ]
  },
  {
   "cell_type": "markdown",
   "metadata": {
    "code_folding": [],
    "slideshow": {
     "slide_type": "slide"
    }
   },
   "source": [
    "# <center>Beispiel Screening (Popcorn)<center>\n",
    "\n",
    "\n",
    "-2 Faktoren: (Ölsorte und Zeit)"
   ]
  },
  {
   "cell_type": "markdown",
   "metadata": {
    "slideshow": {
     "slide_type": "fragment"
    }
   },
   "source": [
    "<center><video data-autoplay src=\"SPlot.mp4\"></video><center>"
   ]
  },
  {
   "cell_type": "markdown",
   "metadata": {
    "slideshow": {
     "slide_type": "fragment"
    }
   },
   "source": [
    "-> Nur Faktor A ist relevant. B kann vernachlässigt werden\n",
    "Folie runter für Rechenbeispiel"
   ]
  },
  {
   "cell_type": "code",
   "execution_count": null,
   "metadata": {
    "slideshow": {
     "slide_type": "fragment"
    }
   },
   "outputs": [],
   "source": [
    "library(pid)\n",
    "Zeit    <- c(-1, +1, -1, +1) # Code Einheiten für A\n",
    "Ölsorte    <- c(-1, -1, +1, +1) # Code Einheiten für B\n",
    "Response    <- c(74, 106, 76, 104) # Auswirkung: unten links,unten rechts,oben links,oben rechts\n",
    "\n",
    "model   <- lm(Response ~ Zeit * Ölsorte ) # Haupteffekte mit Interaktionen\n",
    "\n",
    "Konturdiagramm = contourPlot(model)\n",
    "ParetoPlot = paretoPlot(model)"
   ]
  },
  {
   "cell_type": "markdown",
   "metadata": {
    "slideshow": {
     "slide_type": "subslide"
    }
   },
   "source": [
    "## <center>Konturplot<center>"
   ]
  },
  {
   "cell_type": "markdown",
   "metadata": {
    "slideshow": {
     "slide_type": "fragment"
    }
   },
   "source": [
    "<center><video data-autoplay src=\"CPlot.mp4\"></video><center>"
   ]
  },
  {
   "cell_type": "markdown",
   "metadata": {
    "slideshow": {
     "slide_type": "slide"
    }
   },
   "source": [
    "## <center>Teil 1: Anweden des first order models an einer zufälligen Stelle<center>\n",
    "#    <center> Zunächst laden wir die Daten<center>"
   ]
  },
  {
   "cell_type": "code",
   "execution_count": null,
   "metadata": {
    "slideshow": {
     "slide_type": "fragment"
    }
   },
   "outputs": [],
   "source": [
    "library(rsm)\n",
    "data <- read.csv(\"TempZeit.csv\", sep=\" \") #Laden der Datei mit den Experimenten und Ergebnissen\n",
    "names(data)[1] <- \"x1\" #nicht beachten\n",
    "data # zeige die Daten\n",
    "\n"
   ]
  },
  {
   "cell_type": "code",
   "execution_count": null,
   "metadata": {
    "scrolled": false,
    "slideshow": {
     "slide_type": "fragment"
    }
   },
   "outputs": [],
   "source": [
    "RSM <- as.coded.data(data, \n",
    "              x1 ~ (Time-35)/5,\n",
    "              x2 ~ (Temp-155)/5) # Daten in Coded Units umwandelt. Dies braucht R zum berechnen\n",
    "model <- rsm(Y ~ FO(x1, x2), data = RSM) # FO = first order model # TWI Interaktionen\n",
    "summary(model) # Wiedergabge der Ergebnisse\n",
    "contour(model, ~ x1+x2, \n",
    "        image = TRUE,\n",
    "        xaxp=c(30,40,5),\n",
    "        yaxp=c(150,160,2),\n",
    "        xlabs=c(\"Zeit (min)\", \"Temperatur (°C)\")\n",
    "        )"
   ]
  },
  {
   "cell_type": "markdown",
   "metadata": {
    "slideshow": {
     "slide_type": "slide"
    }
   },
   "source": [
    "## <center>Teil 2: Anweden des first order models am neuen Hochpunkt<center>\n",
    "#    <center> Zunächst laden wir die Daten<center>"
   ]
  },
  {
   "cell_type": "code",
   "execution_count": null,
   "metadata": {
    "scrolled": true,
    "slideshow": {
     "slide_type": "fragment"
    }
   },
   "outputs": [],
   "source": [
    "library(rsm)\n",
    "data <- read.csv(\"TempZeit2.csv\", sep=\" \") #Laden der Datei mit den Experimenten und Ergebnissen\n",
    "names(data)[1] <- \"x1\" #nicht beachten\n",
    "data # zeige die Daten"
   ]
  },
  {
   "cell_type": "markdown",
   "metadata": {
    "slideshow": {
     "slide_type": "fragment"
    }
   },
   "source": [
    "## <center>Nachdem die Daten geladen sind können wir das Modell durch R berechnen lassen<center>"
   ]
  },
  {
   "cell_type": "code",
   "execution_count": null,
   "metadata": {
    "scrolled": false,
    "slideshow": {
     "slide_type": "fragment"
    }
   },
   "outputs": [],
   "source": [
    "RSM <- as.coded.data(data, \n",
    "              x1 ~ (Time-85)/5,\n",
    "              x2 ~ (Temp-175)/5) # Daten in Coded Units umwandelt. Dies braucht R zum berechnen\n",
    "model <- rsm(Y ~ FO(x1, x2)+TWI(x1,x2), data = RSM) # FO = first order model # TWI Interaktionen\n",
    "summary(model) # Wiedergabge der Ergebnisse\n",
    "contour(model, ~ x1+x2, \n",
    "        image = TRUE,\n",
    "        xaxp=c(30,40,5),\n",
    "        yaxp=c(150,160,2),\n",
    "        xlabs=c(\"Zeit (min)\", \"Temperatur (°C)\")\n",
    "        )"
   ]
  },
  {
   "cell_type": "markdown",
   "metadata": {
    "slideshow": {
     "slide_type": "slide"
    }
   },
   "source": [
    "## <center>Teil 3 Testen des Central Composite Designs<center>\n",
    "# <center>Zunächst laden wir die Daten<center>"
   ]
  },
  {
   "cell_type": "code",
   "execution_count": null,
   "metadata": {
    "slideshow": {
     "slide_type": "fragment"
    }
   },
   "outputs": [],
   "source": [
    "library(rsm)\n",
    "data <- read.csv(\"CenterCD.csv\", sep=\" \") #Laden der Datei mit den Experimenten und Ergebnissen\n",
    "names(data)[1] <- \"x1\" #nicht beachten\n",
    "data # zeige die Daten"
   ]
  },
  {
   "cell_type": "markdown",
   "metadata": {
    "slideshow": {
     "slide_type": "fragment"
    }
   },
   "source": [
    "## <center>Nachdem die Daten geladen sind können wir das Central Composite Design durch R berechnen lassen.<center>\n",
    "    \n",
    "## <center>Hierbei wird der Befehl PQ(x1,x2) verwendet. Es steht für den quadratischen Anteil<center>"
   ]
  },
  {
   "cell_type": "code",
   "execution_count": null,
   "metadata": {
    "scrolled": false,
    "slideshow": {
     "slide_type": "fragment"
    }
   },
   "outputs": [],
   "source": [
    "RSM <- as.coded.data(data, \n",
    "              x1 ~ (Time-85)/5,\n",
    "              x2 ~ (Temp-175)/5) # Daten in Coded Units umwandelt. Dies braucht R zum berechnen\n",
    "model <- rsm(Y ~ FO(x1, x2)+PQ(x1, x2), data = RSM) #SO = second order model. Dies beinhaltet FO, TWI und PQ = Quadratischer Anteil\n",
    "summary(model) # Wiedergabge der Ergebnisse\n",
    "contour(model, ~ x1+x2, \n",
    "        image = TRUE,\n",
    "        xaxp=c(30,40,5),\n",
    "        yaxp=c(150,160,2),\n",
    "        xlabs=c(\"Zeit (min)\", \"Temperatur (°C)\")\n",
    "        )\n",
    "\n",
    "#Darstellung als Response Surface\n",
    "persp(model, x1~x2, col = terrain.colors(50), contours = \"colors\",\n",
    "      zlab = \"Yield (%)\",\n",
    "      xlabs=c(\"Zeite (min)\", \"Temperatur (°C)\")\n",
    "      )"
   ]
  },
  {
   "cell_type": "markdown",
   "metadata": {
    "slideshow": {
     "slide_type": "fragment"
    }
   },
   "source": [
    "## <center>Nun wissen wir, das Maximum liegt bei 86.80728 Minuten und 176.28629 °C <center>\n",
    "# <center>Aber wie groß ist der Response (Auswirkung) an dieser Stelle?<center>\n",
    "# <center>Wir benutzen den Befehl \"predict\"<center>"
   ]
  },
  {
   "cell_type": "code",
   "execution_count": null,
   "metadata": {
    "scrolled": true,
    "slideshow": {
     "slide_type": "fragment"
    }
   },
   "outputs": [],
   "source": [
    "max <- data.frame(x1 = 0.361, x2 = 0.257) # Die x,x2 (coded Units) Werte für die Prognose kommen aus der Berechnung oben\n",
    "predict(model, max)"
   ]
  },
  {
   "cell_type": "markdown",
   "metadata": {
    "slideshow": {
     "slide_type": "fragment"
    }
   },
   "source": [
    "## <center>Da Modell prognostiziert uns ein maximalen Response von 80,2% <center>"
   ]
  },
  {
   "cell_type": "markdown",
   "metadata": {
    "slideshow": {
     "slide_type": "slide"
    }
   },
   "source": [
    "## <center>Übung Bieranalytik<center>\n",
    "# <center><img src=\"SPME.jpg\"  height=\"400\" width=\"800\"><center>\n"
   ]
  },
  {
   "cell_type": "markdown",
   "metadata": {
    "slideshow": {
     "slide_type": "fragment"
    }
   },
   "source": [
    "Mithilfe der Festphasen Mikroextraktion (SPME) werden aromatische Verbindungen im Bier analysiert.Für die Extraktion der Analyten sticht die SPME-Nadel ein Gefäß mit den gasförmigen Aromastoffen ein. Diese haften sich an die Nadel.\n",
    "\n",
    "Ziel = Ermittlung höchster Gesamtmenge flüchtiger Verbindungen.\n",
    "Response = Peakfläche, diese ist proportional zur Konzentration.\n",
    "\n",
    "Abhängige Faktoren sind:\n",
    "- Zeit\n",
    "- Temperatur\n",
    "- Salz\n",
    "- ph"
   ]
  },
  {
   "cell_type": "markdown",
   "metadata": {
    "slideshow": {
     "slide_type": "fragment"
    }
   },
   "source": [
    "Mithilfe des ccd Befehls erstellen wir ein Design mit 4 Variablen und 3 Centerpunkten"
   ]
  },
  {
   "cell_type": "code",
   "execution_count": 1,
   "metadata": {
    "scrolled": false,
    "slideshow": {
     "slide_type": "fragment"
    }
   },
   "outputs": [
    {
     "data": {
      "text/html": [
       "<table>\n",
       "<caption>A coded.data: 30 × 7</caption>\n",
       "<thead>\n",
       "\t<tr><th scope=col>run.order</th><th scope=col>std.order</th><th scope=col>x1</th><th scope=col>x2</th><th scope=col>x3</th><th scope=col>x4</th><th scope=col>Block</th></tr>\n",
       "\t<tr><th scope=col>&lt;int&gt;</th><th scope=col>&lt;int&gt;</th><th scope=col>&lt;dbl&gt;</th><th scope=col>&lt;dbl&gt;</th><th scope=col>&lt;dbl&gt;</th><th scope=col>&lt;dbl&gt;</th><th scope=col>&lt;fct&gt;</th></tr>\n",
       "</thead>\n",
       "<tbody>\n",
       "\t<tr><td> 1</td><td> 1</td><td>-1</td><td>-1</td><td>-1</td><td>-1</td><td>1</td></tr>\n",
       "\t<tr><td> 2</td><td> 2</td><td> 1</td><td>-1</td><td>-1</td><td>-1</td><td>1</td></tr>\n",
       "\t<tr><td> 3</td><td> 3</td><td>-1</td><td> 1</td><td>-1</td><td>-1</td><td>1</td></tr>\n",
       "\t<tr><td> 4</td><td> 4</td><td> 1</td><td> 1</td><td>-1</td><td>-1</td><td>1</td></tr>\n",
       "\t<tr><td> 5</td><td> 5</td><td>-1</td><td>-1</td><td> 1</td><td>-1</td><td>1</td></tr>\n",
       "\t<tr><td> 6</td><td> 6</td><td> 1</td><td>-1</td><td> 1</td><td>-1</td><td>1</td></tr>\n",
       "\t<tr><td> 7</td><td> 7</td><td>-1</td><td> 1</td><td> 1</td><td>-1</td><td>1</td></tr>\n",
       "\t<tr><td> 8</td><td> 8</td><td> 1</td><td> 1</td><td> 1</td><td>-1</td><td>1</td></tr>\n",
       "\t<tr><td> 9</td><td> 9</td><td>-1</td><td>-1</td><td>-1</td><td> 1</td><td>1</td></tr>\n",
       "\t<tr><td>10</td><td>10</td><td> 1</td><td>-1</td><td>-1</td><td> 1</td><td>1</td></tr>\n",
       "\t<tr><td>11</td><td>11</td><td>-1</td><td> 1</td><td>-1</td><td> 1</td><td>1</td></tr>\n",
       "\t<tr><td>12</td><td>12</td><td> 1</td><td> 1</td><td>-1</td><td> 1</td><td>1</td></tr>\n",
       "\t<tr><td>13</td><td>13</td><td>-1</td><td>-1</td><td> 1</td><td> 1</td><td>1</td></tr>\n",
       "\t<tr><td>14</td><td>14</td><td> 1</td><td>-1</td><td> 1</td><td> 1</td><td>1</td></tr>\n",
       "\t<tr><td>15</td><td>15</td><td>-1</td><td> 1</td><td> 1</td><td> 1</td><td>1</td></tr>\n",
       "\t<tr><td>16</td><td>16</td><td> 1</td><td> 1</td><td> 1</td><td> 1</td><td>1</td></tr>\n",
       "\t<tr><td>17</td><td>17</td><td> 0</td><td> 0</td><td> 0</td><td> 0</td><td>1</td></tr>\n",
       "\t<tr><td>18</td><td>18</td><td> 0</td><td> 0</td><td> 0</td><td> 0</td><td>1</td></tr>\n",
       "\t<tr><td>19</td><td>19</td><td> 0</td><td> 0</td><td> 0</td><td> 0</td><td>1</td></tr>\n",
       "\t<tr><td> 1</td><td> 1</td><td>-2</td><td> 0</td><td> 0</td><td> 0</td><td>2</td></tr>\n",
       "\t<tr><td> 2</td><td> 2</td><td> 2</td><td> 0</td><td> 0</td><td> 0</td><td>2</td></tr>\n",
       "\t<tr><td> 3</td><td> 3</td><td> 0</td><td>-2</td><td> 0</td><td> 0</td><td>2</td></tr>\n",
       "\t<tr><td> 4</td><td> 4</td><td> 0</td><td> 2</td><td> 0</td><td> 0</td><td>2</td></tr>\n",
       "\t<tr><td> 5</td><td> 5</td><td> 0</td><td> 0</td><td>-2</td><td> 0</td><td>2</td></tr>\n",
       "\t<tr><td> 6</td><td> 6</td><td> 0</td><td> 0</td><td> 2</td><td> 0</td><td>2</td></tr>\n",
       "\t<tr><td> 7</td><td> 7</td><td> 0</td><td> 0</td><td> 0</td><td>-2</td><td>2</td></tr>\n",
       "\t<tr><td> 8</td><td> 8</td><td> 0</td><td> 0</td><td> 0</td><td> 2</td><td>2</td></tr>\n",
       "\t<tr><td> 9</td><td> 9</td><td> 0</td><td> 0</td><td> 0</td><td> 0</td><td>2</td></tr>\n",
       "\t<tr><td>10</td><td>10</td><td> 0</td><td> 0</td><td> 0</td><td> 0</td><td>2</td></tr>\n",
       "\t<tr><td>11</td><td>11</td><td> 0</td><td> 0</td><td> 0</td><td> 0</td><td>2</td></tr>\n",
       "</tbody>\n",
       "</table>\n"
      ],
      "text/latex": [
       "A coded.data: 30 × 7\n",
       "\\begin{tabular}{lllllll}\n",
       " run.order & std.order & x1 & x2 & x3 & x4 & Block\\\\\n",
       " <int> & <int> & <dbl> & <dbl> & <dbl> & <dbl> & <fct>\\\\\n",
       "\\hline\n",
       "\t  1 &  1 & -1 & -1 & -1 & -1 & 1\\\\\n",
       "\t  2 &  2 &  1 & -1 & -1 & -1 & 1\\\\\n",
       "\t  3 &  3 & -1 &  1 & -1 & -1 & 1\\\\\n",
       "\t  4 &  4 &  1 &  1 & -1 & -1 & 1\\\\\n",
       "\t  5 &  5 & -1 & -1 &  1 & -1 & 1\\\\\n",
       "\t  6 &  6 &  1 & -1 &  1 & -1 & 1\\\\\n",
       "\t  7 &  7 & -1 &  1 &  1 & -1 & 1\\\\\n",
       "\t  8 &  8 &  1 &  1 &  1 & -1 & 1\\\\\n",
       "\t  9 &  9 & -1 & -1 & -1 &  1 & 1\\\\\n",
       "\t 10 & 10 &  1 & -1 & -1 &  1 & 1\\\\\n",
       "\t 11 & 11 & -1 &  1 & -1 &  1 & 1\\\\\n",
       "\t 12 & 12 &  1 &  1 & -1 &  1 & 1\\\\\n",
       "\t 13 & 13 & -1 & -1 &  1 &  1 & 1\\\\\n",
       "\t 14 & 14 &  1 & -1 &  1 &  1 & 1\\\\\n",
       "\t 15 & 15 & -1 &  1 &  1 &  1 & 1\\\\\n",
       "\t 16 & 16 &  1 &  1 &  1 &  1 & 1\\\\\n",
       "\t 17 & 17 &  0 &  0 &  0 &  0 & 1\\\\\n",
       "\t 18 & 18 &  0 &  0 &  0 &  0 & 1\\\\\n",
       "\t 19 & 19 &  0 &  0 &  0 &  0 & 1\\\\\n",
       "\t  1 &  1 & -2 &  0 &  0 &  0 & 2\\\\\n",
       "\t  2 &  2 &  2 &  0 &  0 &  0 & 2\\\\\n",
       "\t  3 &  3 &  0 & -2 &  0 &  0 & 2\\\\\n",
       "\t  4 &  4 &  0 &  2 &  0 &  0 & 2\\\\\n",
       "\t  5 &  5 &  0 &  0 & -2 &  0 & 2\\\\\n",
       "\t  6 &  6 &  0 &  0 &  2 &  0 & 2\\\\\n",
       "\t  7 &  7 &  0 &  0 &  0 & -2 & 2\\\\\n",
       "\t  8 &  8 &  0 &  0 &  0 &  2 & 2\\\\\n",
       "\t  9 &  9 &  0 &  0 &  0 &  0 & 2\\\\\n",
       "\t 10 & 10 &  0 &  0 &  0 &  0 & 2\\\\\n",
       "\t 11 & 11 &  0 &  0 &  0 &  0 & 2\\\\\n",
       "\\end{tabular}\n"
      ],
      "text/markdown": [
       "\n",
       "A coded.data: 30 × 7\n",
       "\n",
       "| run.order &lt;int&gt; | std.order &lt;int&gt; | x1 &lt;dbl&gt; | x2 &lt;dbl&gt; | x3 &lt;dbl&gt; | x4 &lt;dbl&gt; | Block &lt;fct&gt; |\n",
       "|---|---|---|---|---|---|---|\n",
       "|  1 |  1 | -1 | -1 | -1 | -1 | 1 |\n",
       "|  2 |  2 |  1 | -1 | -1 | -1 | 1 |\n",
       "|  3 |  3 | -1 |  1 | -1 | -1 | 1 |\n",
       "|  4 |  4 |  1 |  1 | -1 | -1 | 1 |\n",
       "|  5 |  5 | -1 | -1 |  1 | -1 | 1 |\n",
       "|  6 |  6 |  1 | -1 |  1 | -1 | 1 |\n",
       "|  7 |  7 | -1 |  1 |  1 | -1 | 1 |\n",
       "|  8 |  8 |  1 |  1 |  1 | -1 | 1 |\n",
       "|  9 |  9 | -1 | -1 | -1 |  1 | 1 |\n",
       "| 10 | 10 |  1 | -1 | -1 |  1 | 1 |\n",
       "| 11 | 11 | -1 |  1 | -1 |  1 | 1 |\n",
       "| 12 | 12 |  1 |  1 | -1 |  1 | 1 |\n",
       "| 13 | 13 | -1 | -1 |  1 |  1 | 1 |\n",
       "| 14 | 14 |  1 | -1 |  1 |  1 | 1 |\n",
       "| 15 | 15 | -1 |  1 |  1 |  1 | 1 |\n",
       "| 16 | 16 |  1 |  1 |  1 |  1 | 1 |\n",
       "| 17 | 17 |  0 |  0 |  0 |  0 | 1 |\n",
       "| 18 | 18 |  0 |  0 |  0 |  0 | 1 |\n",
       "| 19 | 19 |  0 |  0 |  0 |  0 | 1 |\n",
       "|  1 |  1 | -2 |  0 |  0 |  0 | 2 |\n",
       "|  2 |  2 |  2 |  0 |  0 |  0 | 2 |\n",
       "|  3 |  3 |  0 | -2 |  0 |  0 | 2 |\n",
       "|  4 |  4 |  0 |  2 |  0 |  0 | 2 |\n",
       "|  5 |  5 |  0 |  0 | -2 |  0 | 2 |\n",
       "|  6 |  6 |  0 |  0 |  2 |  0 | 2 |\n",
       "|  7 |  7 |  0 |  0 |  0 | -2 | 2 |\n",
       "|  8 |  8 |  0 |  0 |  0 |  2 | 2 |\n",
       "|  9 |  9 |  0 |  0 |  0 |  0 | 2 |\n",
       "| 10 | 10 |  0 |  0 |  0 |  0 | 2 |\n",
       "| 11 | 11 |  0 |  0 |  0 |  0 | 2 |\n",
       "\n"
      ],
      "text/plain": [
       "   run.order std.order x1 x2 x3 x4 Block\n",
       "1   1         1        -1 -1 -1 -1 1    \n",
       "2   2         2         1 -1 -1 -1 1    \n",
       "3   3         3        -1  1 -1 -1 1    \n",
       "4   4         4         1  1 -1 -1 1    \n",
       "5   5         5        -1 -1  1 -1 1    \n",
       "6   6         6         1 -1  1 -1 1    \n",
       "7   7         7        -1  1  1 -1 1    \n",
       "8   8         8         1  1  1 -1 1    \n",
       "9   9         9        -1 -1 -1  1 1    \n",
       "10 10        10         1 -1 -1  1 1    \n",
       "11 11        11        -1  1 -1  1 1    \n",
       "12 12        12         1  1 -1  1 1    \n",
       "13 13        13        -1 -1  1  1 1    \n",
       "14 14        14         1 -1  1  1 1    \n",
       "15 15        15        -1  1  1  1 1    \n",
       "16 16        16         1  1  1  1 1    \n",
       "17 17        17         0  0  0  0 1    \n",
       "18 18        18         0  0  0  0 1    \n",
       "19 19        19         0  0  0  0 1    \n",
       "20  1         1        -2  0  0  0 2    \n",
       "21  2         2         2  0  0  0 2    \n",
       "22  3         3         0 -2  0  0 2    \n",
       "23  4         4         0  2  0  0 2    \n",
       "24  5         5         0  0 -2  0 2    \n",
       "25  6         6         0  0  2  0 2    \n",
       "26  7         7         0  0  0 -2 2    \n",
       "27  8         8         0  0  0  2 2    \n",
       "28  9         9         0  0  0  0 2    \n",
       "29 10        10         0  0  0  0 2    \n",
       "30 11        11         0  0  0  0 2    "
      ]
     },
     "metadata": {},
     "output_type": "display_data"
    }
   ],
   "source": [
    "library(rsm)\n",
    "data <- ccd(4, n0 = 3, randomize = FALSE, alpha = \"spherical\")\n",
    "data"
   ]
  },
  {
   "cell_type": "markdown",
   "metadata": {
    "slideshow": {
     "slide_type": "fragment"
    }
   },
   "source": [
    "Nun muss die Tabelle noch mit entsprechenden echten Werten gefüllt werden. Dies erfolgt über die folgende Zuordnung:\n"
   ]
  },
  {
   "cell_type": "code",
   "execution_count": 2,
   "metadata": {
    "scrolled": false,
    "slideshow": {
     "slide_type": "fragment"
    }
   },
   "outputs": [
    {
     "data": {
      "text/html": [
       "<table>\n",
       "<caption>A coded.data: 30 × 11</caption>\n",
       "<thead>\n",
       "\t<tr><th scope=col>run.order</th><th scope=col>std.order</th><th scope=col>x1</th><th scope=col>x2</th><th scope=col>x3</th><th scope=col>x4</th><th scope=col>Block</th><th scope=col>Time</th><th scope=col>Temp</th><th scope=col>ph</th><th scope=col>Salz</th></tr>\n",
       "\t<tr><th scope=col>&lt;int&gt;</th><th scope=col>&lt;int&gt;</th><th scope=col>&lt;dbl&gt;</th><th scope=col>&lt;dbl&gt;</th><th scope=col>&lt;dbl&gt;</th><th scope=col>&lt;dbl&gt;</th><th scope=col>&lt;fct&gt;</th><th scope=col>&lt;dbl&gt;</th><th scope=col>&lt;dbl&gt;</th><th scope=col>&lt;dbl&gt;</th><th scope=col>&lt;dbl&gt;</th></tr>\n",
       "</thead>\n",
       "<tbody>\n",
       "\t<tr><td> 1</td><td> 1</td><td>-1</td><td>-1</td><td>-1</td><td>-1</td><td>1</td><td>30</td><td>35</td><td>4.00</td><td>1.75</td></tr>\n",
       "\t<tr><td> 2</td><td> 2</td><td> 1</td><td>-1</td><td>-1</td><td>-1</td><td>1</td><td>40</td><td>35</td><td>4.00</td><td>1.75</td></tr>\n",
       "\t<tr><td> 3</td><td> 3</td><td>-1</td><td> 1</td><td>-1</td><td>-1</td><td>1</td><td>30</td><td>45</td><td>4.00</td><td>1.75</td></tr>\n",
       "\t<tr><td> 4</td><td> 4</td><td> 1</td><td> 1</td><td>-1</td><td>-1</td><td>1</td><td>40</td><td>45</td><td>4.00</td><td>1.75</td></tr>\n",
       "\t<tr><td> 5</td><td> 5</td><td>-1</td><td>-1</td><td> 1</td><td>-1</td><td>1</td><td>30</td><td>35</td><td>5.54</td><td>1.75</td></tr>\n",
       "\t<tr><td> 6</td><td> 6</td><td> 1</td><td>-1</td><td> 1</td><td>-1</td><td>1</td><td>40</td><td>35</td><td>5.54</td><td>1.75</td></tr>\n",
       "\t<tr><td> 7</td><td> 7</td><td>-1</td><td> 1</td><td> 1</td><td>-1</td><td>1</td><td>30</td><td>45</td><td>5.54</td><td>1.75</td></tr>\n",
       "\t<tr><td> 8</td><td> 8</td><td> 1</td><td> 1</td><td> 1</td><td>-1</td><td>1</td><td>40</td><td>45</td><td>5.54</td><td>1.75</td></tr>\n",
       "\t<tr><td> 9</td><td> 9</td><td>-1</td><td>-1</td><td>-1</td><td> 1</td><td>1</td><td>30</td><td>35</td><td>4.00</td><td>2.25</td></tr>\n",
       "\t<tr><td>10</td><td>10</td><td> 1</td><td>-1</td><td>-1</td><td> 1</td><td>1</td><td>40</td><td>35</td><td>4.00</td><td>2.25</td></tr>\n",
       "\t<tr><td>11</td><td>11</td><td>-1</td><td> 1</td><td>-1</td><td> 1</td><td>1</td><td>30</td><td>45</td><td>4.00</td><td>2.25</td></tr>\n",
       "\t<tr><td>12</td><td>12</td><td> 1</td><td> 1</td><td>-1</td><td> 1</td><td>1</td><td>40</td><td>45</td><td>4.00</td><td>2.25</td></tr>\n",
       "\t<tr><td>13</td><td>13</td><td>-1</td><td>-1</td><td> 1</td><td> 1</td><td>1</td><td>30</td><td>35</td><td>5.54</td><td>2.25</td></tr>\n",
       "\t<tr><td>14</td><td>14</td><td> 1</td><td>-1</td><td> 1</td><td> 1</td><td>1</td><td>40</td><td>35</td><td>5.54</td><td>2.25</td></tr>\n",
       "\t<tr><td>15</td><td>15</td><td>-1</td><td> 1</td><td> 1</td><td> 1</td><td>1</td><td>30</td><td>45</td><td>5.54</td><td>2.25</td></tr>\n",
       "\t<tr><td>16</td><td>16</td><td> 1</td><td> 1</td><td> 1</td><td> 1</td><td>1</td><td>40</td><td>45</td><td>5.54</td><td>2.25</td></tr>\n",
       "\t<tr><td>17</td><td>17</td><td> 0</td><td> 0</td><td> 0</td><td> 0</td><td>1</td><td>35</td><td>40</td><td>4.77</td><td>2.00</td></tr>\n",
       "\t<tr><td>18</td><td>18</td><td> 0</td><td> 0</td><td> 0</td><td> 0</td><td>1</td><td>35</td><td>40</td><td>4.77</td><td>2.00</td></tr>\n",
       "\t<tr><td>19</td><td>19</td><td> 0</td><td> 0</td><td> 0</td><td> 0</td><td>1</td><td>35</td><td>40</td><td>4.77</td><td>2.00</td></tr>\n",
       "\t<tr><td> 1</td><td> 1</td><td>-2</td><td> 0</td><td> 0</td><td> 0</td><td>2</td><td>25</td><td>40</td><td>4.77</td><td>2.00</td></tr>\n",
       "\t<tr><td> 2</td><td> 2</td><td> 2</td><td> 0</td><td> 0</td><td> 0</td><td>2</td><td>45</td><td>40</td><td>4.77</td><td>2.00</td></tr>\n",
       "\t<tr><td> 3</td><td> 3</td><td> 0</td><td>-2</td><td> 0</td><td> 0</td><td>2</td><td>35</td><td>30</td><td>4.77</td><td>2.00</td></tr>\n",
       "\t<tr><td> 4</td><td> 4</td><td> 0</td><td> 2</td><td> 0</td><td> 0</td><td>2</td><td>35</td><td>50</td><td>4.77</td><td>2.00</td></tr>\n",
       "\t<tr><td> 5</td><td> 5</td><td> 0</td><td> 0</td><td>-2</td><td> 0</td><td>2</td><td>35</td><td>40</td><td>3.23</td><td>2.00</td></tr>\n",
       "\t<tr><td> 6</td><td> 6</td><td> 0</td><td> 0</td><td> 2</td><td> 0</td><td>2</td><td>35</td><td>40</td><td>6.31</td><td>2.00</td></tr>\n",
       "\t<tr><td> 7</td><td> 7</td><td> 0</td><td> 0</td><td> 0</td><td>-2</td><td>2</td><td>35</td><td>40</td><td>4.77</td><td>1.50</td></tr>\n",
       "\t<tr><td> 8</td><td> 8</td><td> 0</td><td> 0</td><td> 0</td><td> 2</td><td>2</td><td>35</td><td>40</td><td>4.77</td><td>2.50</td></tr>\n",
       "\t<tr><td> 9</td><td> 9</td><td> 0</td><td> 0</td><td> 0</td><td> 0</td><td>2</td><td>35</td><td>40</td><td>4.77</td><td>2.00</td></tr>\n",
       "\t<tr><td>10</td><td>10</td><td> 0</td><td> 0</td><td> 0</td><td> 0</td><td>2</td><td>35</td><td>40</td><td>4.77</td><td>2.00</td></tr>\n",
       "\t<tr><td>11</td><td>11</td><td> 0</td><td> 0</td><td> 0</td><td> 0</td><td>2</td><td>35</td><td>40</td><td>4.77</td><td>2.00</td></tr>\n",
       "</tbody>\n",
       "</table>\n"
      ],
      "text/latex": [
       "A coded.data: 30 × 11\n",
       "\\begin{tabular}{lllllllllll}\n",
       " run.order & std.order & x1 & x2 & x3 & x4 & Block & Time & Temp & ph & Salz\\\\\n",
       " <int> & <int> & <dbl> & <dbl> & <dbl> & <dbl> & <fct> & <dbl> & <dbl> & <dbl> & <dbl>\\\\\n",
       "\\hline\n",
       "\t  1 &  1 & -1 & -1 & -1 & -1 & 1 & 30 & 35 & 4.00 & 1.75\\\\\n",
       "\t  2 &  2 &  1 & -1 & -1 & -1 & 1 & 40 & 35 & 4.00 & 1.75\\\\\n",
       "\t  3 &  3 & -1 &  1 & -1 & -1 & 1 & 30 & 45 & 4.00 & 1.75\\\\\n",
       "\t  4 &  4 &  1 &  1 & -1 & -1 & 1 & 40 & 45 & 4.00 & 1.75\\\\\n",
       "\t  5 &  5 & -1 & -1 &  1 & -1 & 1 & 30 & 35 & 5.54 & 1.75\\\\\n",
       "\t  6 &  6 &  1 & -1 &  1 & -1 & 1 & 40 & 35 & 5.54 & 1.75\\\\\n",
       "\t  7 &  7 & -1 &  1 &  1 & -1 & 1 & 30 & 45 & 5.54 & 1.75\\\\\n",
       "\t  8 &  8 &  1 &  1 &  1 & -1 & 1 & 40 & 45 & 5.54 & 1.75\\\\\n",
       "\t  9 &  9 & -1 & -1 & -1 &  1 & 1 & 30 & 35 & 4.00 & 2.25\\\\\n",
       "\t 10 & 10 &  1 & -1 & -1 &  1 & 1 & 40 & 35 & 4.00 & 2.25\\\\\n",
       "\t 11 & 11 & -1 &  1 & -1 &  1 & 1 & 30 & 45 & 4.00 & 2.25\\\\\n",
       "\t 12 & 12 &  1 &  1 & -1 &  1 & 1 & 40 & 45 & 4.00 & 2.25\\\\\n",
       "\t 13 & 13 & -1 & -1 &  1 &  1 & 1 & 30 & 35 & 5.54 & 2.25\\\\\n",
       "\t 14 & 14 &  1 & -1 &  1 &  1 & 1 & 40 & 35 & 5.54 & 2.25\\\\\n",
       "\t 15 & 15 & -1 &  1 &  1 &  1 & 1 & 30 & 45 & 5.54 & 2.25\\\\\n",
       "\t 16 & 16 &  1 &  1 &  1 &  1 & 1 & 40 & 45 & 5.54 & 2.25\\\\\n",
       "\t 17 & 17 &  0 &  0 &  0 &  0 & 1 & 35 & 40 & 4.77 & 2.00\\\\\n",
       "\t 18 & 18 &  0 &  0 &  0 &  0 & 1 & 35 & 40 & 4.77 & 2.00\\\\\n",
       "\t 19 & 19 &  0 &  0 &  0 &  0 & 1 & 35 & 40 & 4.77 & 2.00\\\\\n",
       "\t  1 &  1 & -2 &  0 &  0 &  0 & 2 & 25 & 40 & 4.77 & 2.00\\\\\n",
       "\t  2 &  2 &  2 &  0 &  0 &  0 & 2 & 45 & 40 & 4.77 & 2.00\\\\\n",
       "\t  3 &  3 &  0 & -2 &  0 &  0 & 2 & 35 & 30 & 4.77 & 2.00\\\\\n",
       "\t  4 &  4 &  0 &  2 &  0 &  0 & 2 & 35 & 50 & 4.77 & 2.00\\\\\n",
       "\t  5 &  5 &  0 &  0 & -2 &  0 & 2 & 35 & 40 & 3.23 & 2.00\\\\\n",
       "\t  6 &  6 &  0 &  0 &  2 &  0 & 2 & 35 & 40 & 6.31 & 2.00\\\\\n",
       "\t  7 &  7 &  0 &  0 &  0 & -2 & 2 & 35 & 40 & 4.77 & 1.50\\\\\n",
       "\t  8 &  8 &  0 &  0 &  0 &  2 & 2 & 35 & 40 & 4.77 & 2.50\\\\\n",
       "\t  9 &  9 &  0 &  0 &  0 &  0 & 2 & 35 & 40 & 4.77 & 2.00\\\\\n",
       "\t 10 & 10 &  0 &  0 &  0 &  0 & 2 & 35 & 40 & 4.77 & 2.00\\\\\n",
       "\t 11 & 11 &  0 &  0 &  0 &  0 & 2 & 35 & 40 & 4.77 & 2.00\\\\\n",
       "\\end{tabular}\n"
      ],
      "text/markdown": [
       "\n",
       "A coded.data: 30 × 11\n",
       "\n",
       "| run.order &lt;int&gt; | std.order &lt;int&gt; | x1 &lt;dbl&gt; | x2 &lt;dbl&gt; | x3 &lt;dbl&gt; | x4 &lt;dbl&gt; | Block &lt;fct&gt; | Time &lt;dbl&gt; | Temp &lt;dbl&gt; | ph &lt;dbl&gt; | Salz &lt;dbl&gt; |\n",
       "|---|---|---|---|---|---|---|---|---|---|---|\n",
       "|  1 |  1 | -1 | -1 | -1 | -1 | 1 | 30 | 35 | 4.00 | 1.75 |\n",
       "|  2 |  2 |  1 | -1 | -1 | -1 | 1 | 40 | 35 | 4.00 | 1.75 |\n",
       "|  3 |  3 | -1 |  1 | -1 | -1 | 1 | 30 | 45 | 4.00 | 1.75 |\n",
       "|  4 |  4 |  1 |  1 | -1 | -1 | 1 | 40 | 45 | 4.00 | 1.75 |\n",
       "|  5 |  5 | -1 | -1 |  1 | -1 | 1 | 30 | 35 | 5.54 | 1.75 |\n",
       "|  6 |  6 |  1 | -1 |  1 | -1 | 1 | 40 | 35 | 5.54 | 1.75 |\n",
       "|  7 |  7 | -1 |  1 |  1 | -1 | 1 | 30 | 45 | 5.54 | 1.75 |\n",
       "|  8 |  8 |  1 |  1 |  1 | -1 | 1 | 40 | 45 | 5.54 | 1.75 |\n",
       "|  9 |  9 | -1 | -1 | -1 |  1 | 1 | 30 | 35 | 4.00 | 2.25 |\n",
       "| 10 | 10 |  1 | -1 | -1 |  1 | 1 | 40 | 35 | 4.00 | 2.25 |\n",
       "| 11 | 11 | -1 |  1 | -1 |  1 | 1 | 30 | 45 | 4.00 | 2.25 |\n",
       "| 12 | 12 |  1 |  1 | -1 |  1 | 1 | 40 | 45 | 4.00 | 2.25 |\n",
       "| 13 | 13 | -1 | -1 |  1 |  1 | 1 | 30 | 35 | 5.54 | 2.25 |\n",
       "| 14 | 14 |  1 | -1 |  1 |  1 | 1 | 40 | 35 | 5.54 | 2.25 |\n",
       "| 15 | 15 | -1 |  1 |  1 |  1 | 1 | 30 | 45 | 5.54 | 2.25 |\n",
       "| 16 | 16 |  1 |  1 |  1 |  1 | 1 | 40 | 45 | 5.54 | 2.25 |\n",
       "| 17 | 17 |  0 |  0 |  0 |  0 | 1 | 35 | 40 | 4.77 | 2.00 |\n",
       "| 18 | 18 |  0 |  0 |  0 |  0 | 1 | 35 | 40 | 4.77 | 2.00 |\n",
       "| 19 | 19 |  0 |  0 |  0 |  0 | 1 | 35 | 40 | 4.77 | 2.00 |\n",
       "|  1 |  1 | -2 |  0 |  0 |  0 | 2 | 25 | 40 | 4.77 | 2.00 |\n",
       "|  2 |  2 |  2 |  0 |  0 |  0 | 2 | 45 | 40 | 4.77 | 2.00 |\n",
       "|  3 |  3 |  0 | -2 |  0 |  0 | 2 | 35 | 30 | 4.77 | 2.00 |\n",
       "|  4 |  4 |  0 |  2 |  0 |  0 | 2 | 35 | 50 | 4.77 | 2.00 |\n",
       "|  5 |  5 |  0 |  0 | -2 |  0 | 2 | 35 | 40 | 3.23 | 2.00 |\n",
       "|  6 |  6 |  0 |  0 |  2 |  0 | 2 | 35 | 40 | 6.31 | 2.00 |\n",
       "|  7 |  7 |  0 |  0 |  0 | -2 | 2 | 35 | 40 | 4.77 | 1.50 |\n",
       "|  8 |  8 |  0 |  0 |  0 |  2 | 2 | 35 | 40 | 4.77 | 2.50 |\n",
       "|  9 |  9 |  0 |  0 |  0 |  0 | 2 | 35 | 40 | 4.77 | 2.00 |\n",
       "| 10 | 10 |  0 |  0 |  0 |  0 | 2 | 35 | 40 | 4.77 | 2.00 |\n",
       "| 11 | 11 |  0 |  0 |  0 |  0 | 2 | 35 | 40 | 4.77 | 2.00 |\n",
       "\n"
      ],
      "text/plain": [
       "   run.order std.order x1 x2 x3 x4 Block Time Temp ph   Salz\n",
       "1   1         1        -1 -1 -1 -1 1     30   35   4.00 1.75\n",
       "2   2         2         1 -1 -1 -1 1     40   35   4.00 1.75\n",
       "3   3         3        -1  1 -1 -1 1     30   45   4.00 1.75\n",
       "4   4         4         1  1 -1 -1 1     40   45   4.00 1.75\n",
       "5   5         5        -1 -1  1 -1 1     30   35   5.54 1.75\n",
       "6   6         6         1 -1  1 -1 1     40   35   5.54 1.75\n",
       "7   7         7        -1  1  1 -1 1     30   45   5.54 1.75\n",
       "8   8         8         1  1  1 -1 1     40   45   5.54 1.75\n",
       "9   9         9        -1 -1 -1  1 1     30   35   4.00 2.25\n",
       "10 10        10         1 -1 -1  1 1     40   35   4.00 2.25\n",
       "11 11        11        -1  1 -1  1 1     30   45   4.00 2.25\n",
       "12 12        12         1  1 -1  1 1     40   45   4.00 2.25\n",
       "13 13        13        -1 -1  1  1 1     30   35   5.54 2.25\n",
       "14 14        14         1 -1  1  1 1     40   35   5.54 2.25\n",
       "15 15        15        -1  1  1  1 1     30   45   5.54 2.25\n",
       "16 16        16         1  1  1  1 1     40   45   5.54 2.25\n",
       "17 17        17         0  0  0  0 1     35   40   4.77 2.00\n",
       "18 18        18         0  0  0  0 1     35   40   4.77 2.00\n",
       "19 19        19         0  0  0  0 1     35   40   4.77 2.00\n",
       "20  1         1        -2  0  0  0 2     25   40   4.77 2.00\n",
       "21  2         2         2  0  0  0 2     45   40   4.77 2.00\n",
       "22  3         3         0 -2  0  0 2     35   30   4.77 2.00\n",
       "23  4         4         0  2  0  0 2     35   50   4.77 2.00\n",
       "24  5         5         0  0 -2  0 2     35   40   3.23 2.00\n",
       "25  6         6         0  0  2  0 2     35   40   6.31 2.00\n",
       "26  7         7         0  0  0 -2 2     35   40   4.77 1.50\n",
       "27  8         8         0  0  0  2 2     35   40   4.77 2.50\n",
       "28  9         9         0  0  0  0 2     35   40   4.77 2.00\n",
       "29 10        10         0  0  0  0 2     35   40   4.77 2.00\n",
       "30 11        11         0  0  0  0 2     35   40   4.77 2.00"
      ]
     },
     "metadata": {},
     "output_type": "display_data"
    }
   ],
   "source": [
    "#Nun weisen wir den Variablen echte Werte zu.\n",
    "#data$Variable <- größe des Abstandes*data$x1 + Wert des Centerpunktes\n",
    "data$Time <-  5*data$x1 + 35\n",
    "data$Temp <-  5*data$x2 + 40\n",
    "data$ph <- 0.77*data$x3 + 4.77\n",
    "data$Salz <- 0.25*data$x4 + 2\n",
    "data"
   ]
  },
  {
   "cell_type": "markdown",
   "metadata": {
    "slideshow": {
     "slide_type": "fragment"
    }
   },
   "source": [
    "Der Versuchsplan steht. An den jeweiligen Messpunkten müssen jetzt die Experimente getätigt werden:\n",
    "Für die Übung erfinde ich Messergebnisse der Peakfläche in 10^8"
   ]
  },
  {
   "cell_type": "code",
   "execution_count": 3,
   "metadata": {
    "scrolled": true,
    "slideshow": {
     "slide_type": "fragment"
    }
   },
   "outputs": [
    {
     "data": {
      "text/html": [
       "<table>\n",
       "<caption>A coded.data: 30 × 12</caption>\n",
       "<thead>\n",
       "\t<tr><th scope=col>run.order</th><th scope=col>std.order</th><th scope=col>x1</th><th scope=col>x2</th><th scope=col>x3</th><th scope=col>x4</th><th scope=col>Block</th><th scope=col>Time</th><th scope=col>Temp</th><th scope=col>ph</th><th scope=col>Salz</th><th scope=col>Y</th></tr>\n",
       "\t<tr><th scope=col>&lt;int&gt;</th><th scope=col>&lt;int&gt;</th><th scope=col>&lt;dbl&gt;</th><th scope=col>&lt;dbl&gt;</th><th scope=col>&lt;dbl&gt;</th><th scope=col>&lt;dbl&gt;</th><th scope=col>&lt;fct&gt;</th><th scope=col>&lt;dbl&gt;</th><th scope=col>&lt;dbl&gt;</th><th scope=col>&lt;dbl&gt;</th><th scope=col>&lt;dbl&gt;</th><th scope=col>&lt;dbl&gt;</th></tr>\n",
       "</thead>\n",
       "<tbody>\n",
       "\t<tr><td> 1</td><td> 1</td><td>-1</td><td>-1</td><td>-1</td><td>-1</td><td>1</td><td>30</td><td>35</td><td>4.00</td><td>1.75</td><td>48</td></tr>\n",
       "\t<tr><td> 2</td><td> 2</td><td> 1</td><td>-1</td><td>-1</td><td>-1</td><td>1</td><td>40</td><td>35</td><td>4.00</td><td>1.75</td><td>57</td></tr>\n",
       "\t<tr><td> 3</td><td> 3</td><td>-1</td><td> 1</td><td>-1</td><td>-1</td><td>1</td><td>30</td><td>45</td><td>4.00</td><td>1.75</td><td>50</td></tr>\n",
       "\t<tr><td> 4</td><td> 4</td><td> 1</td><td> 1</td><td>-1</td><td>-1</td><td>1</td><td>40</td><td>45</td><td>4.00</td><td>1.75</td><td>68</td></tr>\n",
       "\t<tr><td> 5</td><td> 5</td><td>-1</td><td>-1</td><td> 1</td><td>-1</td><td>1</td><td>30</td><td>35</td><td>5.54</td><td>1.75</td><td>57</td></tr>\n",
       "\t<tr><td> 6</td><td> 6</td><td> 1</td><td>-1</td><td> 1</td><td>-1</td><td>1</td><td>40</td><td>35</td><td>5.54</td><td>1.75</td><td>59</td></tr>\n",
       "\t<tr><td> 7</td><td> 7</td><td>-1</td><td> 1</td><td> 1</td><td>-1</td><td>1</td><td>30</td><td>45</td><td>5.54</td><td>1.75</td><td>67</td></tr>\n",
       "\t<tr><td> 8</td><td> 8</td><td> 1</td><td> 1</td><td> 1</td><td>-1</td><td>1</td><td>40</td><td>45</td><td>5.54</td><td>1.75</td><td>73</td></tr>\n",
       "\t<tr><td> 9</td><td> 9</td><td>-1</td><td>-1</td><td>-1</td><td> 1</td><td>1</td><td>30</td><td>35</td><td>4.00</td><td>2.25</td><td>59</td></tr>\n",
       "\t<tr><td>10</td><td>10</td><td> 1</td><td>-1</td><td>-1</td><td> 1</td><td>1</td><td>40</td><td>35</td><td>4.00</td><td>2.25</td><td>67</td></tr>\n",
       "\t<tr><td>11</td><td>11</td><td>-1</td><td> 1</td><td>-1</td><td> 1</td><td>1</td><td>30</td><td>45</td><td>4.00</td><td>2.25</td><td>69</td></tr>\n",
       "\t<tr><td>12</td><td>12</td><td> 1</td><td> 1</td><td>-1</td><td> 1</td><td>1</td><td>40</td><td>45</td><td>4.00</td><td>2.25</td><td>70</td></tr>\n",
       "\t<tr><td>13</td><td>13</td><td>-1</td><td>-1</td><td> 1</td><td> 1</td><td>1</td><td>30</td><td>35</td><td>5.54</td><td>2.25</td><td>50</td></tr>\n",
       "\t<tr><td>14</td><td>14</td><td> 1</td><td>-1</td><td> 1</td><td> 1</td><td>1</td><td>40</td><td>35</td><td>5.54</td><td>2.25</td><td>62</td></tr>\n",
       "\t<tr><td>15</td><td>15</td><td>-1</td><td> 1</td><td> 1</td><td> 1</td><td>1</td><td>30</td><td>45</td><td>5.54</td><td>2.25</td><td>66</td></tr>\n",
       "\t<tr><td>16</td><td>16</td><td> 1</td><td> 1</td><td> 1</td><td> 1</td><td>1</td><td>40</td><td>45</td><td>5.54</td><td>2.25</td><td>70</td></tr>\n",
       "\t<tr><td>17</td><td>17</td><td> 0</td><td> 0</td><td> 0</td><td> 0</td><td>1</td><td>35</td><td>40</td><td>4.77</td><td>2.00</td><td>65</td></tr>\n",
       "\t<tr><td>18</td><td>18</td><td> 0</td><td> 0</td><td> 0</td><td> 0</td><td>1</td><td>35</td><td>40</td><td>4.77</td><td>2.00</td><td>62</td></tr>\n",
       "\t<tr><td>19</td><td>19</td><td> 0</td><td> 0</td><td> 0</td><td> 0</td><td>1</td><td>35</td><td>40</td><td>4.77</td><td>2.00</td><td>78</td></tr>\n",
       "\t<tr><td> 1</td><td> 1</td><td>-2</td><td> 0</td><td> 0</td><td> 0</td><td>2</td><td>25</td><td>40</td><td>4.77</td><td>2.00</td><td>47</td></tr>\n",
       "\t<tr><td> 2</td><td> 2</td><td> 2</td><td> 0</td><td> 0</td><td> 0</td><td>2</td><td>45</td><td>40</td><td>4.77</td><td>2.00</td><td>71</td></tr>\n",
       "\t<tr><td> 3</td><td> 3</td><td> 0</td><td>-2</td><td> 0</td><td> 0</td><td>2</td><td>35</td><td>30</td><td>4.77</td><td>2.00</td><td>58</td></tr>\n",
       "\t<tr><td> 4</td><td> 4</td><td> 0</td><td> 2</td><td> 0</td><td> 0</td><td>2</td><td>35</td><td>50</td><td>4.77</td><td>2.00</td><td>77</td></tr>\n",
       "\t<tr><td> 5</td><td> 5</td><td> 0</td><td> 0</td><td>-2</td><td> 0</td><td>2</td><td>35</td><td>40</td><td>3.23</td><td>2.00</td><td>42</td></tr>\n",
       "\t<tr><td> 6</td><td> 6</td><td> 0</td><td> 0</td><td> 2</td><td> 0</td><td>2</td><td>35</td><td>40</td><td>6.31</td><td>2.00</td><td>72</td></tr>\n",
       "\t<tr><td> 7</td><td> 7</td><td> 0</td><td> 0</td><td> 0</td><td>-2</td><td>2</td><td>35</td><td>40</td><td>4.77</td><td>1.50</td><td>56</td></tr>\n",
       "\t<tr><td> 8</td><td> 8</td><td> 0</td><td> 0</td><td> 0</td><td> 2</td><td>2</td><td>35</td><td>40</td><td>4.77</td><td>2.50</td><td>71</td></tr>\n",
       "\t<tr><td> 9</td><td> 9</td><td> 0</td><td> 0</td><td> 0</td><td> 0</td><td>2</td><td>35</td><td>40</td><td>4.77</td><td>2.00</td><td>72</td></tr>\n",
       "\t<tr><td>10</td><td>10</td><td> 0</td><td> 0</td><td> 0</td><td> 0</td><td>2</td><td>35</td><td>40</td><td>4.77</td><td>2.00</td><td>76</td></tr>\n",
       "\t<tr><td>11</td><td>11</td><td> 0</td><td> 0</td><td> 0</td><td> 0</td><td>2</td><td>35</td><td>40</td><td>4.77</td><td>2.00</td><td>75</td></tr>\n",
       "</tbody>\n",
       "</table>\n"
      ],
      "text/latex": [
       "A coded.data: 30 × 12\n",
       "\\begin{tabular}{llllllllllll}\n",
       " run.order & std.order & x1 & x2 & x3 & x4 & Block & Time & Temp & ph & Salz & Y\\\\\n",
       " <int> & <int> & <dbl> & <dbl> & <dbl> & <dbl> & <fct> & <dbl> & <dbl> & <dbl> & <dbl> & <dbl>\\\\\n",
       "\\hline\n",
       "\t  1 &  1 & -1 & -1 & -1 & -1 & 1 & 30 & 35 & 4.00 & 1.75 & 48\\\\\n",
       "\t  2 &  2 &  1 & -1 & -1 & -1 & 1 & 40 & 35 & 4.00 & 1.75 & 57\\\\\n",
       "\t  3 &  3 & -1 &  1 & -1 & -1 & 1 & 30 & 45 & 4.00 & 1.75 & 50\\\\\n",
       "\t  4 &  4 &  1 &  1 & -1 & -1 & 1 & 40 & 45 & 4.00 & 1.75 & 68\\\\\n",
       "\t  5 &  5 & -1 & -1 &  1 & -1 & 1 & 30 & 35 & 5.54 & 1.75 & 57\\\\\n",
       "\t  6 &  6 &  1 & -1 &  1 & -1 & 1 & 40 & 35 & 5.54 & 1.75 & 59\\\\\n",
       "\t  7 &  7 & -1 &  1 &  1 & -1 & 1 & 30 & 45 & 5.54 & 1.75 & 67\\\\\n",
       "\t  8 &  8 &  1 &  1 &  1 & -1 & 1 & 40 & 45 & 5.54 & 1.75 & 73\\\\\n",
       "\t  9 &  9 & -1 & -1 & -1 &  1 & 1 & 30 & 35 & 4.00 & 2.25 & 59\\\\\n",
       "\t 10 & 10 &  1 & -1 & -1 &  1 & 1 & 40 & 35 & 4.00 & 2.25 & 67\\\\\n",
       "\t 11 & 11 & -1 &  1 & -1 &  1 & 1 & 30 & 45 & 4.00 & 2.25 & 69\\\\\n",
       "\t 12 & 12 &  1 &  1 & -1 &  1 & 1 & 40 & 45 & 4.00 & 2.25 & 70\\\\\n",
       "\t 13 & 13 & -1 & -1 &  1 &  1 & 1 & 30 & 35 & 5.54 & 2.25 & 50\\\\\n",
       "\t 14 & 14 &  1 & -1 &  1 &  1 & 1 & 40 & 35 & 5.54 & 2.25 & 62\\\\\n",
       "\t 15 & 15 & -1 &  1 &  1 &  1 & 1 & 30 & 45 & 5.54 & 2.25 & 66\\\\\n",
       "\t 16 & 16 &  1 &  1 &  1 &  1 & 1 & 40 & 45 & 5.54 & 2.25 & 70\\\\\n",
       "\t 17 & 17 &  0 &  0 &  0 &  0 & 1 & 35 & 40 & 4.77 & 2.00 & 65\\\\\n",
       "\t 18 & 18 &  0 &  0 &  0 &  0 & 1 & 35 & 40 & 4.77 & 2.00 & 62\\\\\n",
       "\t 19 & 19 &  0 &  0 &  0 &  0 & 1 & 35 & 40 & 4.77 & 2.00 & 78\\\\\n",
       "\t  1 &  1 & -2 &  0 &  0 &  0 & 2 & 25 & 40 & 4.77 & 2.00 & 47\\\\\n",
       "\t  2 &  2 &  2 &  0 &  0 &  0 & 2 & 45 & 40 & 4.77 & 2.00 & 71\\\\\n",
       "\t  3 &  3 &  0 & -2 &  0 &  0 & 2 & 35 & 30 & 4.77 & 2.00 & 58\\\\\n",
       "\t  4 &  4 &  0 &  2 &  0 &  0 & 2 & 35 & 50 & 4.77 & 2.00 & 77\\\\\n",
       "\t  5 &  5 &  0 &  0 & -2 &  0 & 2 & 35 & 40 & 3.23 & 2.00 & 42\\\\\n",
       "\t  6 &  6 &  0 &  0 &  2 &  0 & 2 & 35 & 40 & 6.31 & 2.00 & 72\\\\\n",
       "\t  7 &  7 &  0 &  0 &  0 & -2 & 2 & 35 & 40 & 4.77 & 1.50 & 56\\\\\n",
       "\t  8 &  8 &  0 &  0 &  0 &  2 & 2 & 35 & 40 & 4.77 & 2.50 & 71\\\\\n",
       "\t  9 &  9 &  0 &  0 &  0 &  0 & 2 & 35 & 40 & 4.77 & 2.00 & 72\\\\\n",
       "\t 10 & 10 &  0 &  0 &  0 &  0 & 2 & 35 & 40 & 4.77 & 2.00 & 76\\\\\n",
       "\t 11 & 11 &  0 &  0 &  0 &  0 & 2 & 35 & 40 & 4.77 & 2.00 & 75\\\\\n",
       "\\end{tabular}\n"
      ],
      "text/markdown": [
       "\n",
       "A coded.data: 30 × 12\n",
       "\n",
       "| run.order &lt;int&gt; | std.order &lt;int&gt; | x1 &lt;dbl&gt; | x2 &lt;dbl&gt; | x3 &lt;dbl&gt; | x4 &lt;dbl&gt; | Block &lt;fct&gt; | Time &lt;dbl&gt; | Temp &lt;dbl&gt; | ph &lt;dbl&gt; | Salz &lt;dbl&gt; | Y &lt;dbl&gt; |\n",
       "|---|---|---|---|---|---|---|---|---|---|---|---|\n",
       "|  1 |  1 | -1 | -1 | -1 | -1 | 1 | 30 | 35 | 4.00 | 1.75 | 48 |\n",
       "|  2 |  2 |  1 | -1 | -1 | -1 | 1 | 40 | 35 | 4.00 | 1.75 | 57 |\n",
       "|  3 |  3 | -1 |  1 | -1 | -1 | 1 | 30 | 45 | 4.00 | 1.75 | 50 |\n",
       "|  4 |  4 |  1 |  1 | -1 | -1 | 1 | 40 | 45 | 4.00 | 1.75 | 68 |\n",
       "|  5 |  5 | -1 | -1 |  1 | -1 | 1 | 30 | 35 | 5.54 | 1.75 | 57 |\n",
       "|  6 |  6 |  1 | -1 |  1 | -1 | 1 | 40 | 35 | 5.54 | 1.75 | 59 |\n",
       "|  7 |  7 | -1 |  1 |  1 | -1 | 1 | 30 | 45 | 5.54 | 1.75 | 67 |\n",
       "|  8 |  8 |  1 |  1 |  1 | -1 | 1 | 40 | 45 | 5.54 | 1.75 | 73 |\n",
       "|  9 |  9 | -1 | -1 | -1 |  1 | 1 | 30 | 35 | 4.00 | 2.25 | 59 |\n",
       "| 10 | 10 |  1 | -1 | -1 |  1 | 1 | 40 | 35 | 4.00 | 2.25 | 67 |\n",
       "| 11 | 11 | -1 |  1 | -1 |  1 | 1 | 30 | 45 | 4.00 | 2.25 | 69 |\n",
       "| 12 | 12 |  1 |  1 | -1 |  1 | 1 | 40 | 45 | 4.00 | 2.25 | 70 |\n",
       "| 13 | 13 | -1 | -1 |  1 |  1 | 1 | 30 | 35 | 5.54 | 2.25 | 50 |\n",
       "| 14 | 14 |  1 | -1 |  1 |  1 | 1 | 40 | 35 | 5.54 | 2.25 | 62 |\n",
       "| 15 | 15 | -1 |  1 |  1 |  1 | 1 | 30 | 45 | 5.54 | 2.25 | 66 |\n",
       "| 16 | 16 |  1 |  1 |  1 |  1 | 1 | 40 | 45 | 5.54 | 2.25 | 70 |\n",
       "| 17 | 17 |  0 |  0 |  0 |  0 | 1 | 35 | 40 | 4.77 | 2.00 | 65 |\n",
       "| 18 | 18 |  0 |  0 |  0 |  0 | 1 | 35 | 40 | 4.77 | 2.00 | 62 |\n",
       "| 19 | 19 |  0 |  0 |  0 |  0 | 1 | 35 | 40 | 4.77 | 2.00 | 78 |\n",
       "|  1 |  1 | -2 |  0 |  0 |  0 | 2 | 25 | 40 | 4.77 | 2.00 | 47 |\n",
       "|  2 |  2 |  2 |  0 |  0 |  0 | 2 | 45 | 40 | 4.77 | 2.00 | 71 |\n",
       "|  3 |  3 |  0 | -2 |  0 |  0 | 2 | 35 | 30 | 4.77 | 2.00 | 58 |\n",
       "|  4 |  4 |  0 |  2 |  0 |  0 | 2 | 35 | 50 | 4.77 | 2.00 | 77 |\n",
       "|  5 |  5 |  0 |  0 | -2 |  0 | 2 | 35 | 40 | 3.23 | 2.00 | 42 |\n",
       "|  6 |  6 |  0 |  0 |  2 |  0 | 2 | 35 | 40 | 6.31 | 2.00 | 72 |\n",
       "|  7 |  7 |  0 |  0 |  0 | -2 | 2 | 35 | 40 | 4.77 | 1.50 | 56 |\n",
       "|  8 |  8 |  0 |  0 |  0 |  2 | 2 | 35 | 40 | 4.77 | 2.50 | 71 |\n",
       "|  9 |  9 |  0 |  0 |  0 |  0 | 2 | 35 | 40 | 4.77 | 2.00 | 72 |\n",
       "| 10 | 10 |  0 |  0 |  0 |  0 | 2 | 35 | 40 | 4.77 | 2.00 | 76 |\n",
       "| 11 | 11 |  0 |  0 |  0 |  0 | 2 | 35 | 40 | 4.77 | 2.00 | 75 |\n",
       "\n"
      ],
      "text/plain": [
       "   run.order std.order x1 x2 x3 x4 Block Time Temp ph   Salz Y \n",
       "1   1         1        -1 -1 -1 -1 1     30   35   4.00 1.75 48\n",
       "2   2         2         1 -1 -1 -1 1     40   35   4.00 1.75 57\n",
       "3   3         3        -1  1 -1 -1 1     30   45   4.00 1.75 50\n",
       "4   4         4         1  1 -1 -1 1     40   45   4.00 1.75 68\n",
       "5   5         5        -1 -1  1 -1 1     30   35   5.54 1.75 57\n",
       "6   6         6         1 -1  1 -1 1     40   35   5.54 1.75 59\n",
       "7   7         7        -1  1  1 -1 1     30   45   5.54 1.75 67\n",
       "8   8         8         1  1  1 -1 1     40   45   5.54 1.75 73\n",
       "9   9         9        -1 -1 -1  1 1     30   35   4.00 2.25 59\n",
       "10 10        10         1 -1 -1  1 1     40   35   4.00 2.25 67\n",
       "11 11        11        -1  1 -1  1 1     30   45   4.00 2.25 69\n",
       "12 12        12         1  1 -1  1 1     40   45   4.00 2.25 70\n",
       "13 13        13        -1 -1  1  1 1     30   35   5.54 2.25 50\n",
       "14 14        14         1 -1  1  1 1     40   35   5.54 2.25 62\n",
       "15 15        15        -1  1  1  1 1     30   45   5.54 2.25 66\n",
       "16 16        16         1  1  1  1 1     40   45   5.54 2.25 70\n",
       "17 17        17         0  0  0  0 1     35   40   4.77 2.00 65\n",
       "18 18        18         0  0  0  0 1     35   40   4.77 2.00 62\n",
       "19 19        19         0  0  0  0 1     35   40   4.77 2.00 78\n",
       "20  1         1        -2  0  0  0 2     25   40   4.77 2.00 47\n",
       "21  2         2         2  0  0  0 2     45   40   4.77 2.00 71\n",
       "22  3         3         0 -2  0  0 2     35   30   4.77 2.00 58\n",
       "23  4         4         0  2  0  0 2     35   50   4.77 2.00 77\n",
       "24  5         5         0  0 -2  0 2     35   40   3.23 2.00 42\n",
       "25  6         6         0  0  2  0 2     35   40   6.31 2.00 72\n",
       "26  7         7         0  0  0 -2 2     35   40   4.77 1.50 56\n",
       "27  8         8         0  0  0  2 2     35   40   4.77 2.50 71\n",
       "28  9         9         0  0  0  0 2     35   40   4.77 2.00 72\n",
       "29 10        10         0  0  0  0 2     35   40   4.77 2.00 76\n",
       "30 11        11         0  0  0  0 2     35   40   4.77 2.00 75"
      ]
     },
     "metadata": {},
     "output_type": "display_data"
    }
   ],
   "source": [
    "#10^8        1  2  3  4  5  6  7  8  9 10 11 12 13 14 15 16 17 18 19 20 21 22 23 24 25 26 27 28 29 30\n",
    "data$Y <- c(48,57,50,68,57,59,67,73,59,67,69,70,50,62,66,70,65,62,78,47,71,58,77,42,72,56,71,72,76,75\n",
    ")\n",
    "data"
   ]
  },
  {
   "cell_type": "markdown",
   "metadata": {
    "slideshow": {
     "slide_type": "fragment"
    }
   },
   "source": [
    "Nachdem wir unsere Messergebnisse in die Tabelle eingetragen haben,\n",
    "lässt sich das Model wie in dem vorherigen Beispiel auch durch R auswerten"
   ]
  },
  {
   "cell_type": "code",
   "execution_count": 4,
   "metadata": {
    "scrolled": false,
    "slideshow": {
     "slide_type": "fragment"
    }
   },
   "outputs": [
    {
     "data": {
      "text/plain": [
       "\n",
       "Call:\n",
       "rsm(formula = Y ~ FO(x1, x2, x3, x4) + PQ(x1, x2, x3, x4), data = RSM)\n",
       "\n",
       "            Estimate Std. Error t value  Pr(>|t|)    \n",
       "(Intercept) 71.33333    2.47314 28.8433 < 2.2e-16 ***\n",
       "x1           4.50000    1.23657  3.6391  0.001535 ** \n",
       "x2           4.66667    1.23657  3.7739  0.001114 ** \n",
       "x3           3.16667    1.23657  2.5609  0.018208 *  \n",
       "x4           2.66667    1.23657  2.1565  0.042789 *  \n",
       "x1^2        -3.04167    1.15670 -2.6296  0.015665 *  \n",
       "x2^2        -0.91667    1.15670 -0.7925  0.436941    \n",
       "x3^2        -3.54167    1.15670 -3.0619  0.005920 ** \n",
       "x4^2        -1.91667    1.15670 -1.6570  0.112384    \n",
       "---\n",
       "Signif. codes:  0 '***' 0.001 '**' 0.01 '*' 0.05 '.' 0.1 ' ' 1\n",
       "\n",
       "Multiple R-squared:  0.7196,\tAdjusted R-squared:  0.6128 \n",
       "F-statistic: 6.738 on 8 and 21 DF,  p-value: 0.0002122\n",
       "\n",
       "Analysis of Variance Table\n",
       "\n",
       "Response: Y\n",
       "                   Df  Sum Sq Mean Sq F value    Pr(>F)\n",
       "FO(x1, x2, x3, x4)  4 1420.00  355.00  9.6734 0.0001344\n",
       "PQ(x1, x2, x3, x4)  4  558.13  139.53  3.8022 0.0177416\n",
       "Residuals          21  770.67   36.70                  \n",
       "Lack of fit        16  563.33   35.21  0.8491 0.6372362\n",
       "Pure error          5  207.33   41.47                  \n",
       "\n",
       "Stationary point of response surface:\n",
       "       x1        x2        x3        x4 \n",
       "0.7397260 2.5454545 0.4470588 0.6956522 \n",
       "\n",
       "Stationary point in original units:\n",
       "     Time      Temp        ph      Salz \n",
       "38.698630 52.727273  5.114235  2.173913 \n",
       "\n",
       "Eigenanalysis:\n",
       "eigen() decomposition\n",
       "$values\n",
       "[1] -0.9166667 -1.9166667 -3.0416667 -3.5416667\n",
       "\n",
       "$vectors\n",
       "   [,1] [,2] [,3] [,4]\n",
       "x1    0    0    1    0\n",
       "x2    1    0    0    0\n",
       "x3    0    0    0    1\n",
       "x4    0    1    0    0\n",
       "\n"
      ]
     },
     "metadata": {},
     "output_type": "display_data"
    },
    {
     "data": {
      "image/png": "[encoded data removed]",
      "text/plain": [
       "plot without title"
      ]
     },
     "metadata": {
      "image/png": {
       "height": 420,
       "width": 420
      }
     },
     "output_type": "display_data"
    },
    {
     "data": {
      "image/png": "[encoded data removed]",
      "text/plain": [
       "plot without title"
      ]
     },
     "metadata": {
      "image/png": {
       "height": 420,
       "width": 420
      }
     },
     "output_type": "display_data"
    }
   ],
   "source": [
    "RSM <- as.coded.data(data, \n",
    "                x1 ~ (Time-35)/5,\n",
    "                x2 ~ (Temp-40)/5,\n",
    "                x3 ~ (ph-4.77)/0.77,\n",
    "                x4 ~ (Salz-2)/0.25)\n",
    "                     \n",
    "\n",
    "\n",
    "model <- rsm(Y ~ FO(x1, x2,x3,x4)+PQ(x1, x2,x3,x4), data = RSM) \n",
    "summary(model) # Wiedergabge der Ergebnisse\n",
    "contour(model, ~ x1+x2, \n",
    "        image = TRUE,\n",
    "        xaxp=c(30,40,5),\n",
    "        yaxp=c(30,40,5),\n",
    "        xlabs=c(\"Zeit (min)\", \"Temperatur (°C)\")\n",
    "        )\n",
    "\n",
    "#Darstellung als Response Surface\n",
    "persp(model, x1~x2, col = terrain.colors(50), contours = \"colors\",\n",
    "      zlab = \"Yield (%)\",\n",
    "      xlabs=c(\"Zeite (min)\", \"Temperatur (°C)\")\n",
    "      )"
   ]
  },
  {
   "cell_type": "markdown",
   "metadata": {
    "slideshow": {
     "slide_type": "fragment"
    }
   },
   "source": [
    "Das Ergebnis lässt sich graphisch nicht richtig darstellen. Aber R berechnet uns den optimalen Punkt bei x1 = 0.7397260, x2 = 2.5454545, x3 = 0.4470588, x4 = 0.695652"
   ]
  },
  {
   "cell_type": "markdown",
   "metadata": {
    "slideshow": {
     "slide_type": "fragment"
    }
   },
   "source": [
    "Mithilfe des \"predict\" Befehls lassen wir uns den prognostizierten maximalen Response der Peakfläche berechnen:"
   ]
  },
  {
   "cell_type": "code",
   "execution_count": null,
   "metadata": {
    "slideshow": {
     "slide_type": "fragment"
    }
   },
   "outputs": [],
   "source": [
    "max <- data.frame(x1 = 0.7397260, x2 = 2.5454545, x3 = 0.4470588, x4 = 0.695652) # Die x,x2 (coded Units) Werte für die Prognose kommen aus der Berechnung oben\n",
    "predict(model, max)"
   ]
  },
  {
   "cell_type": "markdown",
   "metadata": {
    "slideshow": {
     "slide_type": "fragment"
    }
   },
   "source": [
    "Das Maximum liegt bei 38.7 min 52.7 °C  5.1 ph-Wert  2.2 g (Salz) und weist eine Peakfläche von 80.6 (*10^8)"
   ]
  },
  {
   "attachments": {},
   "cell_type": "markdown",
   "metadata": {
    "slideshow": {
     "slide_type": "slide"
    }
   },
   "source": [
    "## Quellen\n",
    "\n",
    "- Montgomery, D. C. (2017): Design and analysis of experiments, 9. Auflage, John Wiley & Sons Inc.\n",
    "- R.Myers, D.Montgomery, C.Cook (2009): Response Surface Methodology, dritte Ausgabe, John Wiley & Sons Inc.\n",
    "- K.Dunn (2020): Process Improvement Using Data\n",
    "- Nešpor, J. et al. (2018): Application of response surface design to optimise the chromatographic analysis of volatile compounds in beer, Journal of the Institute of Brewing, Vol. 124 (3)\n",
    "- R.Rech (2020): Design and Analysis of Experiments | DoE, Udemy Course\n"
   ]
  }
 ],
 "metadata": {
  "celltoolbar": "Slideshow",
  "kernelspec": {
   "display_name": "R",
   "language": "R",
   "name": "ir"
  },
  "language_info": {
   "codemirror_mode": "r",
   "file_extension": ".r",
   "mimetype": "text/x-r-source",
   "name": "R",
   "pygments_lexer": "r",
   "version": "4.0.3"
  }
 },
 "nbformat": 4,
 "nbformat_minor": 4
}
