{
 "cells": [
  {
   "cell_type": "markdown",
   "metadata": {
    "slideshow": {
     "slide_type": "slide"
    }
   },
   "source": [
    "## <center> Response Surface Methode <br> am Beispiel Bieranalytik <center>\n",
    "#    <center> von Eike Ahlers <center>"
   ]
  },
  {
   "cell_type": "markdown",
   "metadata": {
    "slideshow": {
     "slide_type": "slide"
    }
   },
   "source": [
    "# <center>Gliederung<center>\n",
    "\n",
    "- Grundlagen\n",
    "- Vorgehensweise\n",
    "- Anwendungsbeispiele\n"
   ]
  },
  {
   "cell_type": "markdown",
   "metadata": {
    "slideshow": {
     "slide_type": "slide"
    }
   },
   "source": [
    "# <center>Grundlagen<center>"
   ]
  },
  {
   "cell_type": "markdown",
   "metadata": {
    "slideshow": {
     "slide_type": "fragment"
    }
   },
   "source": [
    "# <center>Was ist die Response Surface Methode<center>\n",
    "\n",
    "- Sammlung statischer und mathematischer Methoden zur Optimierung von Systemen\n",
    "- Die Auswirkung y ist Abhängig von den jeweiligen Faktoren und einem unbekannten Fehler ε\n",
    "- Das Optimum der Auswirkung wird über lineare Modelle angenähert und über quadratische Model prognostiziert.\n",
    "\n"
   ]
  },
  {
   "cell_type": "markdown",
   "metadata": {
    "slideshow": {
     "slide_type": "subslide"
    }
   },
   "source": [
    "# <center>Ziele der RSM<center>\n",
    "\n",
    "- Prozessoptimierung\n",
    "- beste Kombination von Variablen mit dem größten Response\n",
    "- möglichst wenige Experimente"
   ]
  },
  {
   "cell_type": "markdown",
   "metadata": {
    "slideshow": {
     "slide_type": "subslide"
    }
   },
   "source": [
    "## <center>Idee der RSM<center>\n",
    "\n",
    "- Aus Experimente weites vorgehen erschließen\n",
    "- Resultat der Modelbildung ist eine Gleichung\n"
   ]
  },
  {
   "cell_type": "markdown",
   "metadata": {
    "slideshow": {
     "slide_type": "subslide"
    }
   },
   "source": [
    "## <center>Nachteil One-Faktor-At-A-Time<center>\n",
    "\n",
    "- RSM = Änderung mehrerer Faktoren pro Experiment\n",
    "- COST = Änderungng eines Faktors pro Experiment"
   ]
  },
  {
   "cell_type": "markdown",
   "metadata": {
    "slideshow": {
     "slide_type": "fragment"
    }
   },
   "source": [
    "<center><video data-autoplay src=\"test.mp4\"></video><center>"
   ]
  },
  {
   "cell_type": "markdown",
   "metadata": {
    "slideshow": {
     "slide_type": "slide"
    }
   },
   "source": [
    "# <center>Vorgehensweise<center>\n",
    "<center><img src=\"RSM1.png\"  height=\"400\" width=\"800\"><center>\n"
   ]
  },
  {
   "cell_type": "markdown",
   "metadata": {
    "slideshow": {
     "slide_type": "fragment"
    }
   },
   "source": [
    "Der optimale Betriebsbereich y befindet sich im roten Bereich. Es wird versucht den Prozess immer näher in diesen Bereich zu bewegen.\n",
    "Zunächst befindet sich der Prozess weit weg und wird mittels faktorielle Experimente in Richtung des optimane Responses gelenkt.\n",
    "Befindet sich der Prozess in der Nähe vom Optimum werden genauere Methoden angewendet. \n",
    "So wird der Rahmen der Untersuchungen immer weiter in Richtung des Optimums geleitet."
   ]
  },
  {
   "cell_type": "markdown",
   "metadata": {
    "code_folding": [],
    "slideshow": {
     "slide_type": "slide"
    }
   },
   "source": [
    "# <center>Beispiel Screening (Popcorn)<center>\n",
    "\n",
    "\n",
    "-2 Faktoren: (Ölsorte und Zeit)"
   ]
  },
  {
   "cell_type": "markdown",
   "metadata": {
    "slideshow": {
     "slide_type": "fragment"
    }
   },
   "source": [
    "<center><video data-autoplay src=\"SPlot.mp4\"></video><center>"
   ]
  },
  {
   "cell_type": "markdown",
   "metadata": {
    "slideshow": {
     "slide_type": "fragment"
    }
   },
   "source": [
    "-> Nur Faktor A ist relevant. B kann vernachlässigt werden\n",
    "Folie runter für Rechenbeispiel"
   ]
  },
  {
   "cell_type": "code",
   "execution_count": null,
   "metadata": {
    "slideshow": {
     "slide_type": "fragment"
    }
   },
   "outputs": [],
   "source": [
    "library(pid)\n",
    "Zeit    <- c(-1, +1, -1, +1) # Code Einheiten für A\n",
    "Ölsorte    <- c(-1, -1, +1, +1) # Code Einheiten für B\n",
    "Response    <- c(74, 106, 76, 104) # Auswirkung: unten links,unten rechts,oben links,oben rechts\n",
    "\n",
    "model   <- lm(Response ~ Zeit * Ölsorte ) # Haupteffekte mit Interaktionen\n",
    "\n",
    "Konturdiagramm = contourPlot(model)\n",
    "ParetoPlot = paretoPlot(model)"
   ]
  },
  {
   "cell_type": "markdown",
   "metadata": {
    "slideshow": {
     "slide_type": "subslide"
    }
   },
   "source": [
    "## <center>Konturplot<center>"
   ]
  },
  {
   "cell_type": "markdown",
   "metadata": {
    "slideshow": {
     "slide_type": "fragment"
    }
   },
   "source": [
    "<center><video data-autoplay src=\"CPlot.mp4\"></video><center>"
   ]
  },
  {
   "cell_type": "markdown",
   "metadata": {
    "slideshow": {
     "slide_type": "slide"
    }
   },
   "source": [
    "## <center>Teil 1: Anweden des first order models an einer zufälligen Stelle<center>\n",
    "#    <center> Zunächst laden wir die Daten<center>"
   ]
  },
  {
   "cell_type": "code",
   "execution_count": null,
   "metadata": {
    "slideshow": {
     "slide_type": "fragment"
    }
   },
   "outputs": [],
   "source": [
    "library(rsm)\n",
    "data <- read.csv(\"TempZeit.csv\", sep=\" \") #Laden der Datei mit den Experimenten und Ergebnissen\n",
    "names(data)[1] <- \"x1\" #nicht beachten\n",
    "data # zeige die Daten\n",
    "\n"
   ]
  },
  {
   "cell_type": "code",
   "execution_count": null,
   "metadata": {
    "scrolled": false,
    "slideshow": {
     "slide_type": "fragment"
    }
   },
   "outputs": [],
   "source": [
    "RSM <- as.coded.data(data, \n",
    "              x1 ~ (Time-35)/5,\n",
    "              x2 ~ (Temp-155)/5) # Daten in Coded Units umwandelt. Dies braucht R zum berechnen\n",
    "model <- rsm(Y ~ FO(x1, x2), data = RSM) # FO = first order model # TWI Interaktionen\n",
    "summary(model) # Wiedergabge der Ergebnisse\n",
    "contour(model, ~ x1+x2, \n",
    "        image = TRUE,\n",
    "        xaxp=c(30,40,5),\n",
    "        yaxp=c(150,160,2),\n",
    "        xlabs=c(\"Zeit (min)\", \"Temperatur (°C)\")\n",
    "        )"
   ]
  },
  {
   "cell_type": "markdown",
   "metadata": {
    "slideshow": {
     "slide_type": "slide"
    }
   },
   "source": [
    "## <center>Teil 2: Anweden des first order models am neuen Hochpunkt<center>\n",
    "#    <center> Zunächst laden wir die Daten<center>"
   ]
  },
  {
   "cell_type": "code",
   "execution_count": null,
   "metadata": {
    "scrolled": true,
    "slideshow": {
     "slide_type": "fragment"
    }
   },
   "outputs": [],
   "source": [
    "library(rsm)\n",
    "data <- read.csv(\"TempZeit2.csv\", sep=\" \") #Laden der Datei mit den Experimenten und Ergebnissen\n",
    "names(data)[1] <- \"x1\" #nicht beachten\n",
    "data # zeige die Daten"
   ]
  },
  {
   "cell_type": "markdown",
   "metadata": {
    "slideshow": {
     "slide_type": "fragment"
    }
   },
   "source": [
    "## <center>Nachdem die Daten geladen sind können wir das Modell durch R berechnen lassen<center>"
   ]
  },
  {
   "cell_type": "code",
   "execution_count": null,
   "metadata": {
    "scrolled": false,
    "slideshow": {
     "slide_type": "fragment"
    }
   },
   "outputs": [],
   "source": [
    "RSM <- as.coded.data(data, \n",
    "              x1 ~ (Time-85)/5,\n",
    "              x2 ~ (Temp-175)/5) # Daten in Coded Units umwandelt. Dies braucht R zum berechnen\n",
    "model <- rsm(Y ~ FO(x1, x2)+TWI(x1,x2), data = RSM) # FO = first order model # TWI Interaktionen\n",
    "summary(model) # Wiedergabge der Ergebnisse\n",
    "contour(model, ~ x1+x2, \n",
    "        image = TRUE,\n",
    "        xaxp=c(30,40,5),\n",
    "        yaxp=c(150,160,2),\n",
    "        xlabs=c(\"Zeit (min)\", \"Temperatur (°C)\")\n",
    "        )"
   ]
  },
  {
   "cell_type": "markdown",
   "metadata": {
    "slideshow": {
     "slide_type": "slide"
    }
   },
   "source": [
    "## <center>Teil 3 Testen des Central Composite Designs<center>\n",
    "# <center>Zunächst laden wir die Daten<center>"
   ]
  },
  {
   "cell_type": "code",
   "execution_count": null,
   "metadata": {
    "slideshow": {
     "slide_type": "fragment"
    }
   },
   "outputs": [],
   "source": [
    "library(rsm)\n",
    "data <- read.csv(\"CenterCD.csv\", sep=\" \") #Laden der Datei mit den Experimenten und Ergebnissen\n",
    "names(data)[1] <- \"x1\" #nicht beachten\n",
    "data # zeige die Daten"
   ]
  },
  {
   "cell_type": "markdown",
   "metadata": {
    "slideshow": {
     "slide_type": "fragment"
    }
   },
   "source": [
    "## <center>Nachdem die Daten geladen sind können wir das Central Composite Design durch R berechnen lassen.<center>\n",
    "    \n",
    "## <center>Hierbei wird der Befehl PQ(x1,x2) verwendet. Es steht für den quadratischen Anteil<center>"
   ]
  },
  {
   "cell_type": "code",
   "execution_count": null,
   "metadata": {
    "scrolled": false,
    "slideshow": {
     "slide_type": "fragment"
    }
   },
   "outputs": [],
   "source": [
    "RSM <- as.coded.data(data, \n",
    "              x1 ~ (Time-85)/5,\n",
    "              x2 ~ (Temp-175)/5) # Daten in Coded Units umwandelt. Dies braucht R zum berechnen\n",
    "model <- rsm(Y ~ FO(x1, x2)+PQ(x1, x2), data = RSM) #SO = second order model. Dies beinhaltet FO, TWI und PQ = Quadratischer Anteil\n",
    "summary(model) # Wiedergabge der Ergebnisse\n",
    "contour(model, ~ x1+x2, \n",
    "        image = TRUE,\n",
    "        xaxp=c(30,40,5),\n",
    "        yaxp=c(150,160,2),\n",
    "        xlabs=c(\"Zeit (min)\", \"Temperatur (°C)\")\n",
    "        )\n",
    "\n",
    "#Darstellung als Response Surface\n",
    "persp(model, x1~x2, col = terrain.colors(50), contours = \"colors\",\n",
    "      zlab = \"Yield (%)\",\n",
    "      xlabs=c(\"Zeite (min)\", \"Temperatur (°C)\")\n",
    "      )"
   ]
  },
  {
   "cell_type": "markdown",
   "metadata": {
    "slideshow": {
     "slide_type": "fragment"
    }
   },
   "source": [
    "## <center>Nun wissen wir, das Maximum liegt bei 86.80728 Minuten und 176.28629 °C <center>\n",
    "# <center>Aber wie groß ist der Response (Auswirkung) an dieser Stelle?<center>\n",
    "# <center>Wir benutzen den Befehl \"predict\"<center>"
   ]
  },
  {
   "cell_type": "code",
   "execution_count": null,
   "metadata": {
    "scrolled": true,
    "slideshow": {
     "slide_type": "fragment"
    }
   },
   "outputs": [],
   "source": [
    "max <- data.frame(x1 = 0.361, x2 = 0.257) # Die x,x2 (coded Units) Werte für die Prognose kommen aus der Berechnung oben\n",
    "predict(model, max)"
   ]
  },
  {
   "cell_type": "markdown",
   "metadata": {
    "slideshow": {
     "slide_type": "fragment"
    }
   },
   "source": [
    "## <center>Da Modell prognostiziert uns ein maximalen Response von 80,2% <center>"
   ]
  },
  {
   "cell_type": "markdown",
   "metadata": {
    "slideshow": {
     "slide_type": "slide"
    }
   },
   "source": [
    "## <center>Übung Bieranalytik<center>\n",
    "# <center><img src=\"SPME.jpg\"  height=\"400\" width=\"800\"><center>\n"
   ]
  },
  {
   "cell_type": "markdown",
   "metadata": {
    "slideshow": {
     "slide_type": "fragment"
    }
   },
   "source": [
    "Mithilfe der Festphasen Mikroextraktion (SPME) werden aromatische Verbindungen im Bier analysiert.Für die Extraktion der Analyten sticht die SPME-Nadel ein Gefäß mit den gasförmigen Aromastoffen ein. Diese haften sich an die Nadel.\n",
    "\n",
    "Ziel = Ermittlung höchster Gesamtmenge flüchtiger Verbindungen.\n",
    "Response = Peakfläche, diese ist proportional zur Konzentration.\n",
    "\n",
    "Abhängige Faktoren sind:\n",
    "- Zeit\n",
    "- Temperatur\n",
    "- Salz\n",
    "- ph"
   ]
  },
  {
   "cell_type": "markdown",
   "metadata": {
    "slideshow": {
     "slide_type": "fragment"
    }
   },
   "source": [
    "Mithilfe des ccd Befehls erstellen wir ein Design mit 4 Variablen und 3 Centerpunkten"
   ]
  },
  {
   "cell_type": "code",
   "execution_count": null,
   "metadata": {
    "scrolled": false,
    "slideshow": {
     "slide_type": "fragment"
    }
   },
   "outputs": [],
   "source": [
    "library(rsm)\n",
    "data <- ccd(4, n0 = 3, randomize = FALSE, alpha = \"spherical\")\n",
    "data"
   ]
  },
  {
   "cell_type": "markdown",
   "metadata": {
    "slideshow": {
     "slide_type": "fragment"
    }
   },
   "source": [
    "Nun muss die Tabelle noch mit entsprechenden echten Werten gefüllt werden. Dies erfolgt über die folgende Zuordnung:\n"
   ]
  },
  {
   "cell_type": "code",
   "execution_count": null,
   "metadata": {
    "scrolled": false,
    "slideshow": {
     "slide_type": "fragment"
    }
   },
   "outputs": [],
   "source": [
    "#Nun weisen wir den Variablen echte Werte zu.\n",
    "#data$Variable <- größe des Abstandes*data$x1 + Wert des Centerpunktes\n",
    "data$Time <-  5*data$x1 + 35\n",
    "data$Temp <-  5*data$x2 + 40\n",
    "data$ph <- 0.77*data$x3 + 4.77\n",
    "data$Salz <- 0.25*data$x4 + 2\n",
    "data"
   ]
  },
  {
   "cell_type": "markdown",
   "metadata": {
    "slideshow": {
     "slide_type": "fragment"
    }
   },
   "source": [
    "Der Versuchsplan steht. An den jeweiligen Messpunkten müssen jetzt die Experimente getätigt werden:\n",
    "Für die Übung erfinde ich Messergebnisse der Peakfläche in 10^8"
   ]
  },
  {
   "cell_type": "code",
   "execution_count": null,
   "metadata": {
    "scrolled": true,
    "slideshow": {
     "slide_type": "fragment"
    }
   },
   "outputs": [],
   "source": [
    "#10^8        1  2  3  4  5  6  7  8  9 10 11 12 13 14 15 16 17 18 19 20 21 22 23 24 25 26 27 28 29 30\n",
    "data$Y <- c(48,57,50,68,57,59,67,73,59,67,69,70,50,62,66,70,65,62,78,47,71,58,77,42,72,56,71,72,76,75\n",
    ")\n",
    "data"
   ]
  },
  {
   "cell_type": "markdown",
   "metadata": {
    "slideshow": {
     "slide_type": "fragment"
    }
   },
   "source": [
    "Nachdem wir unsere Messergebnisse in die Tabelle eingetragen haben,\n",
    "lässt sich das Model wie in dem vorherigen Beispiel auch durch R auswerten"
   ]
  },
  {
   "cell_type": "code",
   "execution_count": null,
   "metadata": {
    "scrolled": false,
    "slideshow": {
     "slide_type": "fragment"
    }
   },
   "outputs": [],
   "source": [
    "RSM <- as.coded.data(data, \n",
    "                x1 ~ (Time-35)/5,\n",
    "                x2 ~ (Temp-40)/5,\n",
    "                x3 ~ (ph-4.77)/0.77,\n",
    "                x4 ~ (Salz-2)/0.25)\n",
    "                     \n",
    "\n",
    "\n",
    "model <- rsm(Y ~ FO(x1, x2,x3,x4)+PQ(x1, x2,x3,x4), data = RSM) \n",
    "summary(model) # Wiedergabge der Ergebnisse\n",
    "contour(model, ~ x1+x2, \n",
    "        image = TRUE,\n",
    "        xaxp=c(30,40,5),\n",
    "        yaxp=c(30,40,5),\n",
    "        xlabs=c(\"Zeit (min)\", \"Temperatur (°C)\")\n",
    "        )\n",
    "\n",
    "#Darstellung als Response Surface\n",
    "persp(model, x1~x2, col = terrain.colors(50), contours = \"colors\",\n",
    "      zlab = \"Yield (%)\",\n",
    "      xlabs=c(\"Zeite (min)\", \"Temperatur (°C)\")\n",
    "      )"
   ]
  },
  {
   "cell_type": "markdown",
   "metadata": {
    "slideshow": {
     "slide_type": "fragment"
    }
   },
   "source": [
    "Das Ergebnis lässt sich graphisch nicht richtig darstellen. Aber R berechnet uns den optimalen Punkt bei x1 = 0.7397260, x2 = 2.5454545, x3 = 0.4470588, x4 = 0.695652"
   ]
  },
  {
   "cell_type": "markdown",
   "metadata": {
    "slideshow": {
     "slide_type": "fragment"
    }
   },
   "source": [
    "Mithilfe des \"predict\" Befehls lassen wir uns den prognostizierten maximalen Response der Peakfläche berechnen:"
   ]
  },
  {
   "cell_type": "code",
   "execution_count": null,
   "metadata": {
    "slideshow": {
     "slide_type": "fragment"
    }
   },
   "outputs": [],
   "source": [
    "max <- data.frame(x1 = 0.7397260, x2 = 2.5454545, x3 = 0.4470588, x4 = 0.695652) # Die x,x2 (coded Units) Werte für die Prognose kommen aus der Berechnung oben\n",
    "predict(model, max)"
   ]
  },
  {
   "cell_type": "markdown",
   "metadata": {
    "slideshow": {
     "slide_type": "fragment"
    }
   },
   "source": [
    "Das Maximum liegt bei 38.7 min 52.7 °C  5.1 ph-Wert  2.2 g (Salz) und weist eine Peakfläche von 80.6 (*10^8)"
   ]
  },
  {
   "attachments": {},
   "cell_type": "markdown",
   "metadata": {
    "slideshow": {
     "slide_type": "slide"
    }
   },
   "source": [
    "## Quellen\n",
    "\n",
    "- Montgomery, D. C. (2017): Design and analysis of experiments, 9. Auflage, John Wiley & Sons Inc.\n",
    "- R.Myers, D.Montgomery, C.Cook (2009): Response Surface Methodology, dritte Ausgabe, John Wiley & Sons Inc.\n",
    "- K.Dunn (2020): Process Improvement Using Data\n",
    "- Nešpor, J. et al. (2018): Application of response surface design to optimise the chromatographic analysis of volatile compounds in beer, Journal of the Institute of Brewing, Vol. 124 (3)\n",
    "- R.Rech (2020): Design and Analysis of Experiments | DoE, Udemy Course\n"
   ]
  }
 ],
 "metadata": {
  "celltoolbar": "Slideshow",
  "kernelspec": {
   "display_name": "R",
   "language": "R",
   "name": "ir"
  },
  "language_info": {
   "codemirror_mode": "r",
   "file_extension": ".r",
   "mimetype": "text/x-r-source",
   "name": "R",
   "pygments_lexer": "r",
   "version": "4.0.3"
  },
   "livereveal": {
   "autolaunch": true,
   "scroll": true
  }
 },
 "nbformat": 4,
 "nbformat_minor": 4
}
