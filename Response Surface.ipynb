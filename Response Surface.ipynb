{
 "cells": [
  {
   "cell_type": "markdown",
   "metadata": {
    "slideshow": {
     "slide_type": "slide"
    }
   },
   "source": [
    "## <center> Response Surface Methode <br> am Beispiel Bieranalytik <center>\n",
    "#    <center> von Eike Ahlers <center>"
   ]
  },
  {
   "cell_type": "markdown",
   "metadata": {
    "slideshow": {
     "slide_type": "slide"
    }
   },
   "source": [
    "# <center>Gliederung<center>\n",
    "\n",
    "- Grundlagen\n",
    "- Vorgehensweise\n",
    "- Auswertung\n",
    "- Übung\n"
   ]
  },
  {
   "cell_type": "markdown",
   "metadata": {
    "slideshow": {
     "slide_type": "slide"
    }
   },
   "source": [
    "# <center>Grundlagen<center>"
   ]
  },
  {
   "cell_type": "markdown",
   "metadata": {
    "slideshow": {
     "slide_type": "fragment"
    }
   },
   "source": [
    "# <center>Was ist die Response Surface Methode<center>\n",
    "\n",
    "- Sammlung statischer und mathematischer Methoden zur Optimierung von Systemen\n",
    "- Die Auswirkung y = g(x1,...,xn) +ε, wobei n = Anzahl der Einflussfaktoren, \n",
    "    <br> ε = unbekannter Fehler\n",
    "\n"
   ]
  },
  {
   "cell_type": "markdown",
   "metadata": {
    "slideshow": {
     "slide_type": "subslide"
    }
   },
   "source": [
    "# <center>Ziele der RSM<center>\n",
    "\n",
    "- Prozessoptimierung\n",
    "- beste Kombination von Variablen mit dem größten Response\n",
    "- möglichst wenige Experimente"
   ]
  },
  {
   "cell_type": "markdown",
   "metadata": {
    "slideshow": {
     "slide_type": "subslide"
    }
   },
   "source": [
    "Idee der RSM\n",
    "\n",
    "- Aus Experimente weites vorgehen erschließen\n",
    "- Resultat der Modelbildung ist eine Gleichung\n"
   ]
  },
  {
   "cell_type": "markdown",
   "metadata": {
    "slideshow": {
     "slide_type": "subslide"
    }
   },
   "source": [
    "Nachteil One-Faktor-At-A-Time\n",
    "\n",
    "- RSM = Änderung mehrerer Faktoren pro Experiment\n",
    "- COST = Änderungng eines Faktors pro Experiment"
   ]
  },
  {
   "cell_type": "markdown",
   "metadata": {
    "slideshow": {
     "slide_type": "fragment"
    }
   },
   "source": [
    "<center><video data-autoplay src=\"test.mp4\"></video><center>"
   ]
  },
  {
   "cell_type": "markdown",
   "metadata": {
    "slideshow": {
     "slide_type": "slide"
    }
   },
   "source": [
    "# <center>Vorgehensweise<center>\n",
    "<center><img src=\"RSM1.png\"  height=\"400\" width=\"800\"><center>\n"
   ]
  },
  {
   "cell_type": "markdown",
   "metadata": {
    "slideshow": {
     "slide_type": "fragment"
    }
   },
   "source": [
    "Der optimale Betriebsbereich y befindet sich im roten Bereich. Es wird versucht den Prozess immer näher in deisen Bereich zu bewegen.\n",
    "Zunächst befindet sich der Prozess weit weg und wird mittels faktorielle Experimente in Richtung des optimane Responses gelenkt.\n",
    "Befindet sich der Prozess in der Nähe vom Optimum werden genauere Methoden angewendet. \n",
    "So wird der Rahmen der Untersuchungen immer weiter in Richtung des Optimums geleitet."
   ]
  },
  {
   "cell_type": "markdown",
   "metadata": {
    "code_folding": [],
    "slideshow": {
     "slide_type": "slide"
    }
   },
   "source": [
    "# <center>Beispiel Screening (Popcorn)<center>\n",
    "\n",
    "\n",
    "-2 Faktoren: (Ölsorte und Zeit)"
   ]
  },
  {
   "cell_type": "markdown",
   "metadata": {
    "slideshow": {
     "slide_type": "fragment"
    }
   },
   "source": [
    "<center><video data-autoplay src=\"SPlot.mp4\"></video><center>"
   ]
  },
  {
   "cell_type": "markdown",
   "metadata": {
    "slideshow": {
     "slide_type": "fragment"
    }
   },
   "source": [
    "-> Nur Faktor A ist relevant. B kann vernachlässigt werden\n",
    "Folie runter für Rechenbeispiel"
   ]
  },
  {
   "cell_type": "code",
   "execution_count": null,
   "metadata": {
    "slideshow": {
     "slide_type": "fragment"
    }
   },
   "outputs": [],
   "source": [
    "library(pid)\n",
    "Zeit    <- c(-1, +1, -1, +1) # Code Einheiten für A\n",
    "Ölsorte    <- c(-1, -1, +1, +1) # Code Einheiten für B\n",
    "Response    <- c(74, 106, 76, 104) # Auswirkung: unten links,unten rechts,oben links,oben rechts\n",
    "\n",
    "model   <- lm(Response ~ Zeit * Ölsorte ) # Haupteffekte mit Interaktionen\n",
    "\n",
    "Konturdiagramm = contourPlot(model)\n",
    "ParetoPlot = paretoPlot(model)"
   ]
  },
  {
   "cell_type": "markdown",
   "metadata": {
    "slideshow": {
     "slide_type": "subslide"
    }
   },
   "source": [
    "Konturplot"
   ]
  },
  {
   "cell_type": "markdown",
   "metadata": {
    "slideshow": {
     "slide_type": "fragment"
    }
   },
   "source": [
    "<center><video data-autoplay src=\"CPlot.mp4\"></video><center>"
   ]
  },
  {
   "cell_type": "markdown",
   "metadata": {
    "slideshow": {
     "slide_type": "slide"
    }
   },
   "source": [
    "## <center>Teil 1: Anweden des first order models an einer zufälligen Stelle<center>\n",
    "#    <center> Zunächst laden wir die Daten<center>"
   ]
  },
  {
   "cell_type": "code",
   "execution_count": null,
   "metadata": {
    "slideshow": {
     "slide_type": "fragment"
    }
   },
   "outputs": [],
   "source": [
    "library(rsm,readr)\n",
    "data <- read.csv(\"TempZeit.csv\", sep=\" \") #Laden der Datei mit den Experimenten und Ergebnissen\n",
    "names(data)[1] <- \"x1\" #nicht beachten\n",
    "data # zeige die Daten\n",
    "\n"
   ]
  },
  {
   "cell_type": "code",
   "execution_count": null,
   "metadata": {
    "scrolled": false,
    "slideshow": {
     "slide_type": "fragment"
    }
   },
   "outputs": [],
   "source": [
    "RSM <- as.coded.data(data, \n",
    "              x1 ~ (Time-35)/5,\n",
    "              x2 ~ (Temp-155)/5) # Daten in Coded Units umwandelt. Dies braucht R zum berechnen\n",
    "model <- rsm(Y ~ FO(x1, x2), data = RSM) # FO = first order model # TWI Interaktionen\n",
    "summary(model) # Wiedergabge der Ergebnisse\n",
    "contour(model, ~ x1+x2, \n",
    "        image = TRUE,\n",
    "        xaxp=c(30,40,5),\n",
    "        yaxp=c(150,160,2),\n",
    "        xlabs=c(\"Zeit (min)\", \"Temperatur (°C)\")\n",
    "        )"
   ]
  },
  {
   "cell_type": "markdown",
   "metadata": {
    "slideshow": {
     "slide_type": "slide"
    }
   },
   "source": [
    "## <center>Teil 2: Anweden des first order models am neuen Hochpunkt<center>\n",
    "#    <center> Zunächst laden wir die Daten<center>"
   ]
  },
  {
   "cell_type": "code",
   "execution_count": null,
   "metadata": {
    "scrolled": true,
    "slideshow": {
     "slide_type": "fragment"
    }
   },
   "outputs": [],
   "source": [
    "library(rsm,readr)\n",
    "data <- read.csv(\"TempZeit2.csv\", sep=\" \") #Laden der Datei mit den Experimenten und Ergebnissen\n",
    "names(data)[1] <- \"x1\" #nicht beachten\n",
    "data # zeige die Daten"
   ]
  },
  {
   "cell_type": "markdown",
   "metadata": {
    "slideshow": {
     "slide_type": "fragment"
    }
   },
   "source": [
    "## <center>Nachdem die Daten geladen sind können wir das Modell durch R berechnen lassen<center>"
   ]
  },
  {
   "cell_type": "code",
   "execution_count": null,
   "metadata": {
    "scrolled": false,
    "slideshow": {
     "slide_type": "fragment"
    }
   },
   "outputs": [],
   "source": [
    "RSM <- as.coded.data(data, \n",
    "              x1 ~ (Time-85)/5,\n",
    "              x2 ~ (Temp-175)/5) # Daten in Coded Units umwandelt. Dies braucht R zum berechnen\n",
    "model <- rsm(Y ~ FO(x1, x2)+TWI(x1,x2), data = RSM) # FO = first order model # TWI Interaktionen\n",
    "summary(model) # Wiedergabge der Ergebnisse\n",
    "contour(model, ~ x1+x2, \n",
    "        image = TRUE,\n",
    "        xaxp=c(30,40,5),\n",
    "        yaxp=c(150,160,2),\n",
    "        xlabs=c(\"Zeit (min)\", \"Temperatur (°C)\")\n",
    "        )"
   ]
  },
  {
   "cell_type": "markdown",
   "metadata": {
    "slideshow": {
     "slide_type": "slide"
    }
   },
   "source": [
    "## <center>Teil 3 Testen des Central Composite Designs<center>\n",
    "# <center>Zunächst laden wir die Daten<center>"
   ]
  },
  {
   "cell_type": "code",
   "execution_count": null,
   "metadata": {
    "slideshow": {
     "slide_type": "fragment"
    }
   },
   "outputs": [],
   "source": [
    "library(rsm,readr)\n",
    "data <- read.csv(\"CenterCD.csv\", sep=\" \") #Laden der Datei mit den Experimenten und Ergebnissen\n",
    "names(data)[1] <- \"x1\" #nicht beachten\n",
    "data # zeige die Daten"
   ]
  },
  {
   "cell_type": "markdown",
   "metadata": {
    "slideshow": {
     "slide_type": "fragment"
    }
   },
   "source": [
    "## <center>Nachdem die Daten geladen sind können wir das Central Composite Design durch R berechnen lassen.<center>\n",
    "    \n",
    "## <center>Hierbei wird der Befehl PQ(x1,x2) verwendet. Es steht für den quadratischen Anteil<center>"
   ]
  },
  {
   "cell_type": "code",
   "execution_count": null,
   "metadata": {
    "scrolled": false,
    "slideshow": {
     "slide_type": "fragment"
    }
   },
   "outputs": [],
   "source": [
    "RSM <- as.coded.data(data, \n",
    "              x1 ~ (Time-85)/5,\n",
    "              x2 ~ (Temp-175)/5) # Daten in Coded Units umwandelt. Dies braucht R zum berechnen\n",
    "model <- rsm(Y ~ FO(x1, x2)+PQ(x1, x2), data = RSM) #SO = second order model. Dies beinhaltet FO, TWI und PQ = Quadratischer Anteil\n",
    "summary(model) # Wiedergabge der Ergebnisse\n",
    "contour(model, ~ x1+x2, \n",
    "        image = TRUE,\n",
    "        xaxp=c(30,40,5),\n",
    "        yaxp=c(150,160,2),\n",
    "        xlabs=c(\"Zeit (min)\", \"Temperatur (°C)\")\n",
    "        )\n",
    "\n",
    "#Darstellung als Response Surface\n",
    "persp(model, x1~x2, col = terrain.colors(50), contours = \"colors\",\n",
    "      zlab = \"Yield (%)\",\n",
    "      xlabs=c(\"Zeite (min)\", \"Temperatur (°C)\")\n",
    "      )"
   ]
  },
  {
   "cell_type": "markdown",
   "metadata": {
    "slideshow": {
     "slide_type": "fragment"
    }
   },
   "source": [
    "## <center>Nun wissen wir, das Maximum liegt bei 86.80728 Minuten und 176.28629 °C <center>\n",
    "# <center>Aber wie groß ist der Response (Auswirkung) an dieser Stelle?<center>\n",
    "# <center>Wir benutzen den Befehl \"predict\"<center>"
   ]
  },
  {
   "cell_type": "code",
   "execution_count": null,
   "metadata": {
    "scrolled": true,
    "slideshow": {
     "slide_type": "fragment"
    }
   },
   "outputs": [],
   "source": [
    "max <- data.frame(x1 = 0.361, x2 = 0.257) # Die x,x2 (coded Units) Werte für die Prognose kommen aus der Berechnung oben\n",
    "predict(model, max)"
   ]
  },
  {
   "cell_type": "markdown",
   "metadata": {
    "slideshow": {
     "slide_type": "fragment"
    }
   },
   "source": [
    "## <center>Da Modell prognostiziert uns ein maximalen Response von 80,2% <center>"
   ]
  },
  {
   "cell_type": "markdown",
   "metadata": {
    "slideshow": {
     "slide_type": "slide"
    }
   },
   "source": [
    "## <center>Übung Bieranalytik<center>\n"
   ]
  },
  {
   "cell_type": "markdown",
   "metadata": {
    "slideshow": {
     "slide_type": "fragment"
    }
   },
   "source": [
    "Mithilfe der Festphasen Mikroextraktion (SPME) werden aromatische Verbindungen im Bier analysiert.Für die Extraktion der Analyten sticht die SPME-Nadel ein Gefäß mit den gasförmigen Aromastoffen ein. Diese haften sich an die Nadel.\n",
    "\n",
    "Ziel = Ermittlung höchster Gesamtmenge flüchtiger Verbindungen.\n",
    "\n",
    "Abhängige Faktoren sind:\n",
    "- Zeit\n",
    "- Temperatur\n",
    "- "
   ]
  },
  {
   "cell_type": "code",
   "execution_count": 2,
   "metadata": {},
   "outputs": [
    {
     "data": {
      "text/html": [
       "<table>\n",
       "<caption>A data.frame: 9 × 5</caption>\n",
       "<thead>\n",
       "\t<tr><th scope=col>x1</th><th scope=col>x2</th><th scope=col>Zeit</th><th scope=col>Temperatur</th><th scope=col>Y</th></tr>\n",
       "\t<tr><th scope=col>&lt;int&gt;</th><th scope=col>&lt;int&gt;</th><th scope=col>&lt;int&gt;</th><th scope=col>&lt;int&gt;</th><th scope=col>&lt;dbl&gt;</th></tr>\n",
       "</thead>\n",
       "<tbody>\n",
       "\t<tr><td>-1</td><td>-1</td><td>30</td><td>150</td><td>39.3</td></tr>\n",
       "\t<tr><td> 1</td><td>-1</td><td>40</td><td>150</td><td>40.9</td></tr>\n",
       "\t<tr><td>-1</td><td> 1</td><td>30</td><td>160</td><td>40.0</td></tr>\n",
       "\t<tr><td> 1</td><td> 1</td><td>40</td><td>160</td><td>41.5</td></tr>\n",
       "\t<tr><td> 0</td><td> 0</td><td>35</td><td>155</td><td>40.3</td></tr>\n",
       "\t<tr><td> 0</td><td> 0</td><td>35</td><td>155</td><td>40.5</td></tr>\n",
       "\t<tr><td> 0</td><td> 0</td><td>35</td><td>155</td><td>40.7</td></tr>\n",
       "\t<tr><td> 0</td><td> 0</td><td>35</td><td>155</td><td>40.2</td></tr>\n",
       "\t<tr><td> 0</td><td> 0</td><td>35</td><td>155</td><td>40.6</td></tr>\n",
       "</tbody>\n",
       "</table>\n"
      ],
      "text/latex": [
       "A data.frame: 9 × 5\n",
       "\\begin{tabular}{lllll}\n",
       " x1 & x2 & Zeit & Temperatur & Y\\\\\n",
       " <int> & <int> & <int> & <int> & <dbl>\\\\\n",
       "\\hline\n",
       "\t -1 & -1 & 30 & 150 & 39.3\\\\\n",
       "\t  1 & -1 & 40 & 150 & 40.9\\\\\n",
       "\t -1 &  1 & 30 & 160 & 40.0\\\\\n",
       "\t  1 &  1 & 40 & 160 & 41.5\\\\\n",
       "\t  0 &  0 & 35 & 155 & 40.3\\\\\n",
       "\t  0 &  0 & 35 & 155 & 40.5\\\\\n",
       "\t  0 &  0 & 35 & 155 & 40.7\\\\\n",
       "\t  0 &  0 & 35 & 155 & 40.2\\\\\n",
       "\t  0 &  0 & 35 & 155 & 40.6\\\\\n",
       "\\end{tabular}\n"
      ],
      "text/markdown": [
       "\n",
       "A data.frame: 9 × 5\n",
       "\n",
       "| x1 &lt;int&gt; | x2 &lt;int&gt; | Zeit &lt;int&gt; | Temperatur &lt;int&gt; | Y &lt;dbl&gt; |\n",
       "|---|---|---|---|---|\n",
       "| -1 | -1 | 30 | 150 | 39.3 |\n",
       "|  1 | -1 | 40 | 150 | 40.9 |\n",
       "| -1 |  1 | 30 | 160 | 40.0 |\n",
       "|  1 |  1 | 40 | 160 | 41.5 |\n",
       "|  0 |  0 | 35 | 155 | 40.3 |\n",
       "|  0 |  0 | 35 | 155 | 40.5 |\n",
       "|  0 |  0 | 35 | 155 | 40.7 |\n",
       "|  0 |  0 | 35 | 155 | 40.2 |\n",
       "|  0 |  0 | 35 | 155 | 40.6 |\n",
       "\n"
      ],
      "text/plain": [
       "  x1 x2 Zeit Temperatur Y   \n",
       "1 -1 -1 30   150        39.3\n",
       "2  1 -1 40   150        40.9\n",
       "3 -1  1 30   160        40.0\n",
       "4  1  1 40   160        41.5\n",
       "5  0  0 35   155        40.3\n",
       "6  0  0 35   155        40.5\n",
       "7  0  0 35   155        40.7\n",
       "8  0  0 35   155        40.2\n",
       "9  0  0 35   155        40.6"
      ]
     },
     "metadata": {},
     "output_type": "display_data"
    }
   ],
   "source": [
    "library(rsm)\n",
    "data <- read.csv(\"test.csv\", sep=\" \") #Laden der Datei mit den Experimenten und Ergebnissen\n",
    "names(data)[1] <- \"x1\" #nicht beachten\n",
    "data # zeige die Daten"
   ]
  },
  {
   "cell_type": "code",
   "execution_count": null,
   "metadata": {},
   "outputs": [],
   "source": []
  },
  {
   "cell_type": "code",
   "execution_count": null,
   "metadata": {},
   "outputs": [],
   "source": []
  },
  {
   "cell_type": "code",
   "execution_count": null,
   "metadata": {},
   "outputs": [],
   "source": []
  },
  {
   "cell_type": "code",
   "execution_count": null,
   "metadata": {},
   "outputs": [],
   "source": []
  },
  {
   "cell_type": "code",
   "execution_count": null,
   "metadata": {},
   "outputs": [],
   "source": []
  },
  {
   "cell_type": "code",
   "execution_count": null,
   "metadata": {},
   "outputs": [],
   "source": []
  },
  {
   "cell_type": "code",
   "execution_count": null,
   "metadata": {
    "scrolled": false,
    "slideshow": {
     "slide_type": "subslide"
    }
   },
   "outputs": [],
   "source": [
    "P <- c(  0,  -1,  +1,  -1,  +1)\n",
    "T <- c(  0,  -1,  -1,  +1,  +1)\n",
    "y <- c(407, 193, 468, 310, 571) #Auswirkung: nullpunkt,unten links,unten rechts,oben links,oben rechts\n",
    "mod.base.1 <- lm(y ~ P*T)\n",
    "summary(mod.base.1)\n",
    "r=contourPlot(mod.base.1, \"P\", \"T\")"
   ]
  },
  {
   "cell_type": "code",
   "execution_count": null,
   "metadata": {},
   "outputs": [],
   "source": []
  },
  {
   "cell_type": "code",
   "execution_count": null,
   "metadata": {},
   "outputs": [],
   "source": []
  },
  {
   "cell_type": "code",
   "execution_count": null,
   "metadata": {},
   "outputs": [],
   "source": [
    "P <- c(  0,  -1,  +1,  -1,  +1)\n",
    "T <- c(  0,  -1,  -1,  +1,  +1)\n",
    "y <- c(679.5, 571, 688, 630, 733) #Auswirkung: nullpunkt,unten links,unten rechts,oben links,oben rechts\n",
    "mod.base.1 <- lm(y ~ P*T)\n",
    "summary(mod.base.1)\n",
    "r=contourPlot(mod.base.1, \"P\", \"T\")"
   ]
  }
 ],
 "metadata": {
  "celltoolbar": "Slideshow",
  "kernelspec": {
   "display_name": "R",
   "language": "R",
   "name": "ir"
  },
  "language_info": {
   "codemirror_mode": "r",
   "file_extension": ".r",
   "mimetype": "text/x-r-source",
   "name": "R",
   "pygments_lexer": "r",
   "version": "4.0.3"
  }
 },
 "livereveal": {
    "autolaunch": true,
    "scroll": true
  }
 "nbformat": 4,
 "nbformat_minor": 4
}
