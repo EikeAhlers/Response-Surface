{
 "cells": [
  {
   "cell_type": "markdown",
   "metadata": {
    "slideshow": {
     "slide_type": "slide"
    }
   },
   "source": [
    "## <center> Response Surface Methode <br> am Beispiel Bieranalytik <center>\n",
    "#    <center> von Eike Ahlers <center>"
   ]
  },
  {
   "cell_type": "markdown",
   "metadata": {
    "slideshow": {
     "slide_type": "slide"
    }
   },
   "source": [
    "# <center>Gliederung<center>\n",
    "\n",
    "- Grundlagen\n",
    "- Vorgehensweise\n",
    "- Auswertung\n",
    "- Übung\n"
   ]
  },
  {
   "cell_type": "markdown",
   "metadata": {
    "slideshow": {
     "slide_type": "slide"
    }
   },
   "source": [
    "# <center>Grundlagen<center>"
   ]
  },
  {
   "cell_type": "markdown",
   "metadata": {
    "slideshow": {
     "slide_type": "fragment"
    }
   },
   "source": [
    "# <center>Was ist die Response Surface Methode<center>\n",
    "\n",
    "- Sammlung statischer und mathematischer Methoden zur Optimierung von Systemen\n",
    "- Die Auswirkung y = g(x1,...,xn) +ε, wobei n = Anzahl der Einflussfaktoren, \n",
    "    <br> ε = unbekannter Fehler\n",
    "\n"
   ]
  },
  {
   "cell_type": "markdown",
   "metadata": {
    "slideshow": {
     "slide_type": "subslide"
    }
   },
   "source": [
    "# <center>Ziele der RSM<center>\n",
    "\n",
    "- Prozessoptimierung\n",
    "- beste Kombination von Variablen mit dem größten Response\n",
    "- möglichst wenige Experimente"
   ]
  },
  {
   "cell_type": "markdown",
   "metadata": {
    "slideshow": {
     "slide_type": "subslide"
    }
   },
   "source": [
    "Idee der RSM\n",
    "\n",
    "- Aus Experimente weites vorgehen erschließen\n",
    "- Resultat der Modelbildung ist eine Gleichung\n"
   ]
  },
  {
   "cell_type": "markdown",
   "metadata": {
    "slideshow": {
     "slide_type": "subslide"
    }
   },
   "source": [
    "Nachteil One-Faktor-At-A-Time\n",
    "\n",
    "- RSM = Änderung mehrerer Faktoren pro Experiment\n",
    "- COST = Änderungng eines Faktors pro Experiment"
   ]
  },
  {
   "cell_type": "markdown",
   "metadata": {
    "slideshow": {
     "slide_type": "fragment"
    }
   },
   "source": [
    "<center><video data-autoplay src=\"test.mp4\"></video><center>"
   ]
  },
  {
   "cell_type": "markdown",
   "metadata": {
    "slideshow": {
     "slide_type": "slide"
    }
   },
   "source": [
    "# <center>Vorgehensweise<center>\n",
    "<center><img src=\"RSM1.png\"  height=\"400\" width=\"800\"><center>\n"
   ]
  },
  {
   "cell_type": "markdown",
   "metadata": {
    "slideshow": {
     "slide_type": "fragment"
    }
   },
   "source": [
    "Der optimale Betriebsbereich y befindet sich im roten Bereich. Es wird versucht den Prozess immer näher in deisen Bereich zu bewegen.\n",
    "Zunächst befindet sich der Prozess weit weg und wird mittels faktorielle Experimente in Richtung des optimane Responses gelenkt.\n",
    "Befindet sich der Prozess in der Nähe vom Optimum werden genauere Methoden angewendet. \n",
    "So wird der Rahmen der Untersuchungen immer weiter in Richtung des Optimums geleitet."
   ]
  },
  {
   "cell_type": "markdown",
   "metadata": {
    "code_folding": [],
    "slideshow": {
     "slide_type": "slide"
    }
   },
   "source": [
    "# <center>Beispiel Screening (Popcorn)<center>\n",
    "\n",
    "\n",
    "-2 Faktoren: (Ölsorte und Zeit)"
   ]
  },
  {
   "cell_type": "markdown",
   "metadata": {
    "slideshow": {
     "slide_type": "fragment"
    }
   },
   "source": [
    "<center><video data-autoplay src=\"SPlot.mp4\"></video><center>"
   ]
  },
  {
   "cell_type": "markdown",
   "metadata": {
    "slideshow": {
     "slide_type": "fragment"
    }
   },
   "source": [
    "-> Nur Faktor A ist relevant. B kann vernachlässigt werden\n",
    "Folie runter für Rechenbeispiel"
   ]
  },
  {
   "cell_type": "code",
   "execution_count": 1,
   "metadata": {
    "slideshow": {
     "slide_type": "fragment"
    }
   },
   "outputs": [
    {
     "name": "stderr",
     "output_type": "stream",
     "text": [
      "Registered S3 method overwritten by 'DoE.base':\n",
      "  method           from       \n",
      "  factorize.factor conf.design\n",
      "\n"
     ]
    },
    {
     "data": {
      "image/png": "[encoded data removed]",
      "text/plain": [
       "plot without title"
      ]
     },
     "metadata": {
      "image/png": {
       "height": 420,
       "width": 420
      }
     },
     "output_type": "display_data"
    },
    {
     "data": {
      "image/png": "[encoded data removed]",
      "text/plain": [
       "plot without title"
      ]
     },
     "metadata": {
      "image/png": {
       "height": 420,
       "width": 420
      }
     },
     "output_type": "display_data"
    }
   ],
   "source": [
    "library(pid)\n",
    "Zeit    <- c(-1, +1, -1, +1) # Code Einheiten für A\n",
    "Ölsorte    <- c(-1, -1, +1, +1) # Code Einheiten für B\n",
    "Response    <- c(74, 106, 76, 104) # Auswirkung: unten links,unten rechts,oben links,oben rechts\n",
    "\n",
    "model   <- lm(Response ~ Zeit * Ölsorte ) # Haupteffekte mit Interaktionen\n",
    "\n",
    "Konturdiagramm = contourPlot(model)\n",
    "ParetoPlot = paretoPlot(model)"
   ]
  },
  {
   "cell_type": "markdown",
   "metadata": {
    "slideshow": {
     "slide_type": "subslide"
    }
   },
   "source": [
    "Konturplot"
   ]
  },
  {
   "cell_type": "markdown",
   "metadata": {
    "slideshow": {
     "slide_type": "fragment"
    }
   },
   "source": [
    "<center><video data-autoplay src=\"CPlot.mp4\"></video><center>"
   ]
  },
  {
   "cell_type": "markdown",
   "metadata": {
    "slideshow": {
     "slide_type": "slide"
    }
   },
   "source": [
    "## <center>Teil 1: Anweden des first order models an einer zufälligen Stelle<center>\n",
    "#    <center> Zunächst laden wir die Daten<center>"
   ]
  },
  {
   "cell_type": "code",
   "execution_count": 2,
   "metadata": {
    "slideshow": {
     "slide_type": "fragment"
    }
   },
   "outputs": [
    {
     "data": {
      "text/html": [
       "<table>\n",
       "<caption>A data.frame: 9 × 5</caption>\n",
       "<thead>\n",
       "\t<tr><th scope=col>x1</th><th scope=col>x2</th><th scope=col>Zeit</th><th scope=col>Temperatur</th><th scope=col>Y</th></tr>\n",
       "\t<tr><th scope=col>&lt;int&gt;</th><th scope=col>&lt;int&gt;</th><th scope=col>&lt;int&gt;</th><th scope=col>&lt;int&gt;</th><th scope=col>&lt;dbl&gt;</th></tr>\n",
       "</thead>\n",
       "<tbody>\n",
       "\t<tr><td>-1</td><td>-1</td><td>30</td><td>150</td><td>39.3</td></tr>\n",
       "\t<tr><td> 1</td><td>-1</td><td>40</td><td>150</td><td>40.9</td></tr>\n",
       "\t<tr><td>-1</td><td> 1</td><td>30</td><td>160</td><td>40.0</td></tr>\n",
       "\t<tr><td> 1</td><td> 1</td><td>40</td><td>160</td><td>41.5</td></tr>\n",
       "\t<tr><td> 0</td><td> 0</td><td>35</td><td>155</td><td>40.3</td></tr>\n",
       "\t<tr><td> 0</td><td> 0</td><td>35</td><td>155</td><td>40.5</td></tr>\n",
       "\t<tr><td> 0</td><td> 0</td><td>35</td><td>155</td><td>40.7</td></tr>\n",
       "\t<tr><td> 0</td><td> 0</td><td>35</td><td>155</td><td>40.2</td></tr>\n",
       "\t<tr><td> 0</td><td> 0</td><td>35</td><td>155</td><td>40.6</td></tr>\n",
       "</tbody>\n",
       "</table>\n"
      ],
      "text/latex": [
       "A data.frame: 9 × 5\n",
       "\\begin{tabular}{lllll}\n",
       " x1 & x2 & Zeit & Temperatur & Y\\\\\n",
       " <int> & <int> & <int> & <int> & <dbl>\\\\\n",
       "\\hline\n",
       "\t -1 & -1 & 30 & 150 & 39.3\\\\\n",
       "\t  1 & -1 & 40 & 150 & 40.9\\\\\n",
       "\t -1 &  1 & 30 & 160 & 40.0\\\\\n",
       "\t  1 &  1 & 40 & 160 & 41.5\\\\\n",
       "\t  0 &  0 & 35 & 155 & 40.3\\\\\n",
       "\t  0 &  0 & 35 & 155 & 40.5\\\\\n",
       "\t  0 &  0 & 35 & 155 & 40.7\\\\\n",
       "\t  0 &  0 & 35 & 155 & 40.2\\\\\n",
       "\t  0 &  0 & 35 & 155 & 40.6\\\\\n",
       "\\end{tabular}\n"
      ],
      "text/markdown": [
       "\n",
       "A data.frame: 9 × 5\n",
       "\n",
       "| x1 &lt;int&gt; | x2 &lt;int&gt; | Zeit &lt;int&gt; | Temperatur &lt;int&gt; | Y &lt;dbl&gt; |\n",
       "|---|---|---|---|---|\n",
       "| -1 | -1 | 30 | 150 | 39.3 |\n",
       "|  1 | -1 | 40 | 150 | 40.9 |\n",
       "| -1 |  1 | 30 | 160 | 40.0 |\n",
       "|  1 |  1 | 40 | 160 | 41.5 |\n",
       "|  0 |  0 | 35 | 155 | 40.3 |\n",
       "|  0 |  0 | 35 | 155 | 40.5 |\n",
       "|  0 |  0 | 35 | 155 | 40.7 |\n",
       "|  0 |  0 | 35 | 155 | 40.2 |\n",
       "|  0 |  0 | 35 | 155 | 40.6 |\n",
       "\n"
      ],
      "text/plain": [
       "  x1 x2 Zeit Temperatur Y   \n",
       "1 -1 -1 30   150        39.3\n",
       "2  1 -1 40   150        40.9\n",
       "3 -1  1 30   160        40.0\n",
       "4  1  1 40   160        41.5\n",
       "5  0  0 35   155        40.3\n",
       "6  0  0 35   155        40.5\n",
       "7  0  0 35   155        40.7\n",
       "8  0  0 35   155        40.2\n",
       "9  0  0 35   155        40.6"
      ]
     },
     "metadata": {},
     "output_type": "display_data"
    }
   ],
   "source": [
    "library(rsm,readr)\n",
    "data <- read.csv(\"TempZeit.csv\", sep=\" \") #Laden der Datei mit den Experimenten und Ergebnissen\n",
    "names(data)[1] <- \"x1\" #nicht beachten\n",
    "data # zeige die Daten\n",
    "\n"
   ]
  },
  {
   "cell_type": "code",
   "execution_count": 3,
   "metadata": {
    "scrolled": false,
    "slideshow": {
     "slide_type": "fragment"
    }
   },
   "outputs": [
    {
     "data": {
      "text/plain": [
       "\n",
       "Call:\n",
       "rsm(formula = Y ~ FO(x1, x2), data = RSM)\n",
       "\n",
       "             Estimate Std. Error  t value  Pr(>|t|)    \n",
       "(Intercept) 40.444444   0.057288 705.9869 5.451e-16 ***\n",
       "x1           0.775000   0.085932   9.0188  0.000104 ***\n",
       "x2           0.325000   0.085932   3.7821  0.009158 ** \n",
       "---\n",
       "Signif. codes:  0 '***' 0.001 '**' 0.01 '*' 0.05 '.' 0.1 ' ' 1\n",
       "\n",
       "Multiple R-squared:  0.941,\tAdjusted R-squared:  0.9213 \n",
       "F-statistic: 47.82 on 2 and 6 DF,  p-value: 0.0002057\n",
       "\n",
       "Analysis of Variance Table\n",
       "\n",
       "Response: Y\n",
       "            Df  Sum Sq Mean Sq F value    Pr(>F)\n",
       "FO(x1, x2)   2 2.82500 1.41250 47.8213 0.0002057\n",
       "Residuals    6 0.17722 0.02954                  \n",
       "Lack of fit  2 0.00522 0.00261  0.0607 0.9419341\n",
       "Pure error   4 0.17200 0.04300                  \n",
       "\n",
       "Direction of steepest ascent (at radius 1):\n",
       "       x1        x2 \n",
       "0.9221944 0.3867267 \n",
       "\n",
       "Corresponding increment in original units:\n",
       "    Time     Temp \n",
       "4.610972 1.933633 \n"
      ]
     },
     "metadata": {},
     "output_type": "display_data"
    },
    {
     "data": {
      "image/png": "[encoded data removed]",
      "text/plain": [
       "plot without title"
      ]
     },
     "metadata": {
      "image/png": {
       "height": 420,
       "width": 420
      }
     },
     "output_type": "display_data"
    }
   ],
   "source": [
    "RSM <- as.coded.data(data, \n",
    "              x1 ~ (Time-35)/5,\n",
    "              x2 ~ (Temp-155)/5) # Daten in Coded Units umwandelt. Dies braucht R zum berechnen\n",
    "model <- rsm(Y ~ FO(x1, x2), data = RSM) # FO = first order model # TWI Interaktionen\n",
    "summary(model) # Wiedergabge der Ergebnisse\n",
    "contour(model, ~ x1+x2, \n",
    "        image = TRUE,\n",
    "        xaxp=c(30,40,5),\n",
    "        yaxp=c(150,160,2),\n",
    "        xlabs=c(\"Zeit (min)\", \"Temperatur (°C)\")\n",
    "        )"
   ]
  },
  {
   "cell_type": "markdown",
   "metadata": {
    "slideshow": {
     "slide_type": "slide"
    }
   },
   "source": [
    "## <center>Teil 2: Anweden des first order models am neuen Hochpunkt<center>\n",
    "#    <center> Zunächst laden wir die Daten<center>"
   ]
  },
  {
   "cell_type": "code",
   "execution_count": 4,
   "metadata": {
    "scrolled": true,
    "slideshow": {
     "slide_type": "fragment"
    }
   },
   "outputs": [
    {
     "data": {
      "text/html": [
       "<table>\n",
       "<caption>A data.frame: 9 × 5</caption>\n",
       "<thead>\n",
       "\t<tr><th scope=col>x1</th><th scope=col>x2</th><th scope=col>Time</th><th scope=col>Temp</th><th scope=col>Y</th></tr>\n",
       "\t<tr><th scope=col>&lt;int&gt;</th><th scope=col>&lt;int&gt;</th><th scope=col>&lt;int&gt;</th><th scope=col>&lt;int&gt;</th><th scope=col>&lt;dbl&gt;</th></tr>\n",
       "</thead>\n",
       "<tbody>\n",
       "\t<tr><td>-1</td><td>-1</td><td>80</td><td>170</td><td>76.5</td></tr>\n",
       "\t<tr><td> 1</td><td>-1</td><td>90</td><td>170</td><td>78.0</td></tr>\n",
       "\t<tr><td>-1</td><td> 1</td><td>80</td><td>180</td><td>77.0</td></tr>\n",
       "\t<tr><td> 1</td><td> 1</td><td>90</td><td>180</td><td>79.5</td></tr>\n",
       "\t<tr><td> 0</td><td> 0</td><td>85</td><td>175</td><td>79.9</td></tr>\n",
       "\t<tr><td> 0</td><td> 0</td><td>85</td><td>175</td><td>80.3</td></tr>\n",
       "\t<tr><td> 0</td><td> 0</td><td>85</td><td>175</td><td>80.0</td></tr>\n",
       "\t<tr><td> 0</td><td> 0</td><td>85</td><td>175</td><td>79.7</td></tr>\n",
       "\t<tr><td> 0</td><td> 0</td><td>85</td><td>175</td><td>79.8</td></tr>\n",
       "</tbody>\n",
       "</table>\n"
      ],
      "text/latex": [
       "A data.frame: 9 × 5\n",
       "\\begin{tabular}{lllll}\n",
       " x1 & x2 & Time & Temp & Y\\\\\n",
       " <int> & <int> & <int> & <int> & <dbl>\\\\\n",
       "\\hline\n",
       "\t -1 & -1 & 80 & 170 & 76.5\\\\\n",
       "\t  1 & -1 & 90 & 170 & 78.0\\\\\n",
       "\t -1 &  1 & 80 & 180 & 77.0\\\\\n",
       "\t  1 &  1 & 90 & 180 & 79.5\\\\\n",
       "\t  0 &  0 & 85 & 175 & 79.9\\\\\n",
       "\t  0 &  0 & 85 & 175 & 80.3\\\\\n",
       "\t  0 &  0 & 85 & 175 & 80.0\\\\\n",
       "\t  0 &  0 & 85 & 175 & 79.7\\\\\n",
       "\t  0 &  0 & 85 & 175 & 79.8\\\\\n",
       "\\end{tabular}\n"
      ],
      "text/markdown": [
       "\n",
       "A data.frame: 9 × 5\n",
       "\n",
       "| x1 &lt;int&gt; | x2 &lt;int&gt; | Time &lt;int&gt; | Temp &lt;int&gt; | Y &lt;dbl&gt; |\n",
       "|---|---|---|---|---|\n",
       "| -1 | -1 | 80 | 170 | 76.5 |\n",
       "|  1 | -1 | 90 | 170 | 78.0 |\n",
       "| -1 |  1 | 80 | 180 | 77.0 |\n",
       "|  1 |  1 | 90 | 180 | 79.5 |\n",
       "|  0 |  0 | 85 | 175 | 79.9 |\n",
       "|  0 |  0 | 85 | 175 | 80.3 |\n",
       "|  0 |  0 | 85 | 175 | 80.0 |\n",
       "|  0 |  0 | 85 | 175 | 79.7 |\n",
       "|  0 |  0 | 85 | 175 | 79.8 |\n",
       "\n"
      ],
      "text/plain": [
       "  x1 x2 Time Temp Y   \n",
       "1 -1 -1 80   170  76.5\n",
       "2  1 -1 90   170  78.0\n",
       "3 -1  1 80   180  77.0\n",
       "4  1  1 90   180  79.5\n",
       "5  0  0 85   175  79.9\n",
       "6  0  0 85   175  80.3\n",
       "7  0  0 85   175  80.0\n",
       "8  0  0 85   175  79.7\n",
       "9  0  0 85   175  79.8"
      ]
     },
     "metadata": {},
     "output_type": "display_data"
    }
   ],
   "source": [
    "library(rsm,readr)\n",
    "data <- read.csv(\"TempZeit2.csv\", sep=\" \") #Laden der Datei mit den Experimenten und Ergebnissen\n",
    "names(data)[1] <- \"x1\" #nicht beachten\n",
    "data # zeige die Daten"
   ]
  },
  {
   "cell_type": "markdown",
   "metadata": {
    "slideshow": {
     "slide_type": "fragment"
    }
   },
   "source": [
    "## <center>Nachdem die Daten geladen sind können wir das Modell durch R berechnen lassen<center>"
   ]
  },
  {
   "cell_type": "code",
   "execution_count": 5,
   "metadata": {
    "scrolled": false,
    "slideshow": {
     "slide_type": "fragment"
    }
   },
   "outputs": [
    {
     "data": {
      "text/plain": [
       "\n",
       "Call:\n",
       "rsm(formula = Y ~ FO(x1, x2) + TWI(x1, x2), data = RSM)\n",
       "\n",
       "            Estimate Std. Error  t value  Pr(>|t|)    \n",
       "(Intercept) 78.96667    0.49148 160.6702 1.772e-10 ***\n",
       "x1           1.00000    0.73722   1.3564    0.2330    \n",
       "x2           0.50000    0.73722   0.6782    0.5277    \n",
       "x1:x2        0.25000    0.73722   0.3391    0.7483    \n",
       "---\n",
       "Signif. codes:  0 '***' 0.001 '**' 0.01 '*' 0.05 '.' 0.1 ' ' 1\n",
       "\n",
       "Multiple R-squared:  0.3257,\tAdjusted R-squared:  -0.07891 \n",
       "F-statistic: 0.805 on 3 and 5 DF,  p-value: 0.5426\n",
       "\n",
       "Analysis of Variance Table\n",
       "\n",
       "Response: Y\n",
       "            Df Sum Sq Mean Sq F value    Pr(>F)\n",
       "FO(x1, x2)   2  5.000   2.500   1.150 0.3882680\n",
       "TWI(x1, x2)  1  0.250   0.250   0.115 0.7483056\n",
       "Residuals    5 10.870   2.174                  \n",
       "Lack of fit  1 10.658  10.658 201.094 0.0001436\n",
       "Pure error   4  0.212   0.053                  \n",
       "\n",
       "Stationary point of response surface:\n",
       "x1 x2 \n",
       "-2 -4 \n",
       "\n",
       "Stationary point in original units:\n",
       "Time Temp \n",
       "  75  155 \n",
       "\n",
       "Eigenanalysis:\n",
       "eigen() decomposition\n",
       "$values\n",
       "[1]  0.125 -0.125\n",
       "\n",
       "$vectors\n",
       "        [,1]       [,2]\n",
       "x1 0.7071068 -0.7071068\n",
       "x2 0.7071068  0.7071068\n",
       "\n"
      ]
     },
     "metadata": {},
     "output_type": "display_data"
    },
    {
     "data": {
      "image/png": "[encoded data removed]",
      "text/plain": [
       "plot without title"
      ]
     },
     "metadata": {
      "image/png": {
       "height": 420,
       "width": 420
      }
     },
     "output_type": "display_data"
    }
   ],
   "source": [
    "RSM <- as.coded.data(data, \n",
    "              x1 ~ (Time-85)/5,\n",
    "              x2 ~ (Temp-175)/5) # Daten in Coded Units umwandelt. Dies braucht R zum berechnen\n",
    "model <- rsm(Y ~ FO(x1, x2)+TWI(x1,x2), data = RSM) # FO = first order model # TWI Interaktionen\n",
    "summary(model) # Wiedergabge der Ergebnisse\n",
    "contour(model, ~ x1+x2, \n",
    "        image = TRUE,\n",
    "        xaxp=c(30,40,5),\n",
    "        yaxp=c(150,160,2),\n",
    "        xlabs=c(\"Zeit (min)\", \"Temperatur (°C)\")\n",
    "        )"
   ]
  },
  {
   "cell_type": "markdown",
   "metadata": {
    "slideshow": {
     "slide_type": "slide"
    }
   },
   "source": [
    "## <center>Teil 3 Testen des Central Composite Designs<center>\n",
    "# <center>Zunächst laden wir die Daten<center>"
   ]
  },
  {
   "cell_type": "code",
   "execution_count": 6,
   "metadata": {
    "slideshow": {
     "slide_type": "fragment"
    }
   },
   "outputs": [
    {
     "data": {
      "text/html": [
       "<table>\n",
       "<caption>A data.frame: 13 × 7</caption>\n",
       "<thead>\n",
       "\t<tr><th scope=col>x1</th><th scope=col>x2</th><th scope=col>Time</th><th scope=col>Temp</th><th scope=col>Y</th><th scope=col>visc</th><th scope=col>MW</th></tr>\n",
       "\t<tr><th scope=col>&lt;dbl&gt;</th><th scope=col>&lt;dbl&gt;</th><th scope=col>&lt;dbl&gt;</th><th scope=col>&lt;dbl&gt;</th><th scope=col>&lt;dbl&gt;</th><th scope=col>&lt;int&gt;</th><th scope=col>&lt;int&gt;</th></tr>\n",
       "</thead>\n",
       "<tbody>\n",
       "\t<tr><td>-1.000</td><td>-1.000</td><td>80.00</td><td>170.00</td><td>76.5</td><td>62</td><td>2940</td></tr>\n",
       "\t<tr><td>-1.000</td><td> 1.000</td><td>80.00</td><td>180.00</td><td>77.0</td><td>60</td><td>3470</td></tr>\n",
       "\t<tr><td> 1.000</td><td>-1.000</td><td>90.00</td><td>170.00</td><td>78.0</td><td>66</td><td>3680</td></tr>\n",
       "\t<tr><td> 1.000</td><td> 1.000</td><td>90.00</td><td>180.00</td><td>79.5</td><td>59</td><td>3890</td></tr>\n",
       "\t<tr><td> 0.000</td><td> 0.000</td><td>85.00</td><td>175.00</td><td>79.9</td><td>72</td><td>3480</td></tr>\n",
       "\t<tr><td> 0.000</td><td> 0.000</td><td>85.00</td><td>175.00</td><td>80.3</td><td>69</td><td>3200</td></tr>\n",
       "\t<tr><td> 0.000</td><td> 0.000</td><td>85.00</td><td>175.00</td><td>80.0</td><td>68</td><td>3410</td></tr>\n",
       "\t<tr><td> 0.000</td><td> 0.000</td><td>85.00</td><td>175.00</td><td>79.7</td><td>70</td><td>3290</td></tr>\n",
       "\t<tr><td> 0.000</td><td> 0.000</td><td>85.00</td><td>175.00</td><td>79.8</td><td>71</td><td>3500</td></tr>\n",
       "\t<tr><td> 1.414</td><td> 0.000</td><td>92.07</td><td>175.00</td><td>78.4</td><td>68</td><td>3360</td></tr>\n",
       "\t<tr><td>-1.414</td><td> 0.000</td><td>77.93</td><td>175.00</td><td>75.6</td><td>71</td><td>3020</td></tr>\n",
       "\t<tr><td> 0.000</td><td> 1.414</td><td>85.00</td><td>182.07</td><td>78.5</td><td>58</td><td>3630</td></tr>\n",
       "\t<tr><td> 0.000</td><td>-1.414</td><td>85.00</td><td>167.93</td><td>77.0</td><td>57</td><td>3150</td></tr>\n",
       "</tbody>\n",
       "</table>\n"
      ],
      "text/latex": [
       "A data.frame: 13 × 7\n",
       "\\begin{tabular}{lllllll}\n",
       " x1 & x2 & Time & Temp & Y & visc & MW\\\\\n",
       " <dbl> & <dbl> & <dbl> & <dbl> & <dbl> & <int> & <int>\\\\\n",
       "\\hline\n",
       "\t -1.000 & -1.000 & 80.00 & 170.00 & 76.5 & 62 & 2940\\\\\n",
       "\t -1.000 &  1.000 & 80.00 & 180.00 & 77.0 & 60 & 3470\\\\\n",
       "\t  1.000 & -1.000 & 90.00 & 170.00 & 78.0 & 66 & 3680\\\\\n",
       "\t  1.000 &  1.000 & 90.00 & 180.00 & 79.5 & 59 & 3890\\\\\n",
       "\t  0.000 &  0.000 & 85.00 & 175.00 & 79.9 & 72 & 3480\\\\\n",
       "\t  0.000 &  0.000 & 85.00 & 175.00 & 80.3 & 69 & 3200\\\\\n",
       "\t  0.000 &  0.000 & 85.00 & 175.00 & 80.0 & 68 & 3410\\\\\n",
       "\t  0.000 &  0.000 & 85.00 & 175.00 & 79.7 & 70 & 3290\\\\\n",
       "\t  0.000 &  0.000 & 85.00 & 175.00 & 79.8 & 71 & 3500\\\\\n",
       "\t  1.414 &  0.000 & 92.07 & 175.00 & 78.4 & 68 & 3360\\\\\n",
       "\t -1.414 &  0.000 & 77.93 & 175.00 & 75.6 & 71 & 3020\\\\\n",
       "\t  0.000 &  1.414 & 85.00 & 182.07 & 78.5 & 58 & 3630\\\\\n",
       "\t  0.000 & -1.414 & 85.00 & 167.93 & 77.0 & 57 & 3150\\\\\n",
       "\\end{tabular}\n"
      ],
      "text/markdown": [
       "\n",
       "A data.frame: 13 × 7\n",
       "\n",
       "| x1 &lt;dbl&gt; | x2 &lt;dbl&gt; | Time &lt;dbl&gt; | Temp &lt;dbl&gt; | Y &lt;dbl&gt; | visc &lt;int&gt; | MW &lt;int&gt; |\n",
       "|---|---|---|---|---|---|---|\n",
       "| -1.000 | -1.000 | 80.00 | 170.00 | 76.5 | 62 | 2940 |\n",
       "| -1.000 |  1.000 | 80.00 | 180.00 | 77.0 | 60 | 3470 |\n",
       "|  1.000 | -1.000 | 90.00 | 170.00 | 78.0 | 66 | 3680 |\n",
       "|  1.000 |  1.000 | 90.00 | 180.00 | 79.5 | 59 | 3890 |\n",
       "|  0.000 |  0.000 | 85.00 | 175.00 | 79.9 | 72 | 3480 |\n",
       "|  0.000 |  0.000 | 85.00 | 175.00 | 80.3 | 69 | 3200 |\n",
       "|  0.000 |  0.000 | 85.00 | 175.00 | 80.0 | 68 | 3410 |\n",
       "|  0.000 |  0.000 | 85.00 | 175.00 | 79.7 | 70 | 3290 |\n",
       "|  0.000 |  0.000 | 85.00 | 175.00 | 79.8 | 71 | 3500 |\n",
       "|  1.414 |  0.000 | 92.07 | 175.00 | 78.4 | 68 | 3360 |\n",
       "| -1.414 |  0.000 | 77.93 | 175.00 | 75.6 | 71 | 3020 |\n",
       "|  0.000 |  1.414 | 85.00 | 182.07 | 78.5 | 58 | 3630 |\n",
       "|  0.000 | -1.414 | 85.00 | 167.93 | 77.0 | 57 | 3150 |\n",
       "\n"
      ],
      "text/plain": [
       "   x1     x2     Time  Temp   Y    visc MW  \n",
       "1  -1.000 -1.000 80.00 170.00 76.5 62   2940\n",
       "2  -1.000  1.000 80.00 180.00 77.0 60   3470\n",
       "3   1.000 -1.000 90.00 170.00 78.0 66   3680\n",
       "4   1.000  1.000 90.00 180.00 79.5 59   3890\n",
       "5   0.000  0.000 85.00 175.00 79.9 72   3480\n",
       "6   0.000  0.000 85.00 175.00 80.3 69   3200\n",
       "7   0.000  0.000 85.00 175.00 80.0 68   3410\n",
       "8   0.000  0.000 85.00 175.00 79.7 70   3290\n",
       "9   0.000  0.000 85.00 175.00 79.8 71   3500\n",
       "10  1.414  0.000 92.07 175.00 78.4 68   3360\n",
       "11 -1.414  0.000 77.93 175.00 75.6 71   3020\n",
       "12  0.000  1.414 85.00 182.07 78.5 58   3630\n",
       "13  0.000 -1.414 85.00 167.93 77.0 57   3150"
      ]
     },
     "metadata": {},
     "output_type": "display_data"
    }
   ],
   "source": [
    "library(rsm,readr)\n",
    "data <- read.csv(\"CenterCD.csv\", sep=\" \") #Laden der Datei mit den Experimenten und Ergebnissen\n",
    "names(data)[1] <- \"x1\" #nicht beachten\n",
    "data # zeige die Daten"
   ]
  },
  {
   "cell_type": "markdown",
   "metadata": {
    "slideshow": {
     "slide_type": "fragment"
    }
   },
   "source": [
    "## <center>Nachdem die Daten geladen sind können wir das Central Composite Design durch R berechnen lassen.<center>\n",
    "    \n",
    "## <center>Hierbei wird der Befehl PQ(x1,x2) verwendet. Es steht für den quadratischen Anteil<center>"
   ]
  },
  {
   "cell_type": "code",
   "execution_count": 7,
   "metadata": {
    "scrolled": false,
    "slideshow": {
     "slide_type": "fragment"
    }
   },
   "outputs": [
    {
     "data": {
      "text/plain": [
       "\n",
       "Call:\n",
       "rsm(formula = Y ~ FO(x1, x2) + PQ(x1, x2), data = RSM)\n",
       "\n",
       "            Estimate Std. Error  t value  Pr(>|t|)    \n",
       "(Intercept) 79.93995    0.13660 585.2155 < 2.2e-16 ***\n",
       "x1           0.99505    0.10800   9.2135 1.559e-05 ***\n",
       "x2           0.51520    0.10800   4.7704  0.001408 ** \n",
       "x1^2        -1.37645    0.11583 -11.8831 2.310e-06 ***\n",
       "x2^2        -1.00134    0.11583  -8.6447 2.489e-05 ***\n",
       "---\n",
       "Signif. codes:  0 '***' 0.001 '**' 0.01 '*' 0.05 '.' 0.1 ' ' 1\n",
       "\n",
       "Multiple R-squared:  0.974,\tAdjusted R-squared:  0.961 \n",
       "F-statistic: 75.02 on 4 and 8 DF,  p-value: 2.226e-06\n",
       "\n",
       "Analysis of Variance Table\n",
       "\n",
       "Response: Y\n",
       "            Df  Sum Sq Mean Sq F value    Pr(>F)\n",
       "FO(x1, x2)   2 10.0430  5.0215 53.8227 2.290e-05\n",
       "PQ(x1, x2)   2 17.9537  8.9769 96.2186 2.538e-06\n",
       "Residuals    8  0.7464  0.0933                  \n",
       "Lack of fit  4  0.5344  0.1336  2.5206    0.1962\n",
       "Pure error   4  0.2120  0.0530                  \n",
       "\n",
       "Stationary point of response surface:\n",
       "       x1        x2 \n",
       "0.3614555 0.2572577 \n",
       "\n",
       "Stationary point in original units:\n",
       "     Time      Temp \n",
       " 86.80728 176.28629 \n",
       "\n",
       "Eigenanalysis:\n",
       "eigen() decomposition\n",
       "$values\n",
       "[1] -1.001336 -1.376449\n",
       "\n",
       "$vectors\n",
       "   [,1] [,2]\n",
       "x1    0   -1\n",
       "x2   -1    0\n",
       "\n"
      ]
     },
     "metadata": {},
     "output_type": "display_data"
    },
    {
     "data": {
      "image/png": "[encoded data removed]",
      "text/plain": [
       "plot without title"
      ]
     },
     "metadata": {
      "image/png": {
       "height": 420,
       "width": 420
      }
     },
     "output_type": "display_data"
    },
    {
     "data": {
      "image/png": "[encoded data removed]",
      "text/plain": [
       "plot without title"
      ]
     },
     "metadata": {
      "image/png": {
       "height": 420,
       "width": 420
      }
     },
     "output_type": "display_data"
    }
   ],
   "source": [
    "RSM <- as.coded.data(data, \n",
    "              x1 ~ (Time-85)/5,\n",
    "              x2 ~ (Temp-175)/5) # Daten in Coded Units umwandelt. Dies braucht R zum berechnen\n",
    "model <- rsm(Y ~ FO(x1, x2)+PQ(x1, x2), data = RSM) #SO = second order model. Dies beinhaltet FO, TWI und PQ = Quadratischer Anteil\n",
    "summary(model) # Wiedergabge der Ergebnisse\n",
    "contour(model, ~ x1+x2, \n",
    "        image = TRUE,\n",
    "        xaxp=c(30,40,5),\n",
    "        yaxp=c(150,160,2),\n",
    "        xlabs=c(\"Zeit (min)\", \"Temperatur (°C)\")\n",
    "        )\n",
    "\n",
    "#Darstellung als Response Surface\n",
    "persp(model, x1~x2, col = terrain.colors(50), contours = \"colors\",\n",
    "      zlab = \"Yield (%)\",\n",
    "      xlabs=c(\"Zeite (min)\", \"Temperatur (°C)\")\n",
    "      )"
   ]
  },
  {
   "cell_type": "markdown",
   "metadata": {
    "slideshow": {
     "slide_type": "fragment"
    }
   },
   "source": [
    "## <center>Nun wissen wir, das Maximum liegt bei 86.80728 Minuten und 176.28629 °C <center>\n",
    "# <center>Aber wie groß ist der Response (Auswirkung) an dieser Stelle?<center>\n",
    "# <center>Wir benutzen den Befehl \"predict\"<center>"
   ]
  },
  {
   "cell_type": "code",
   "execution_count": 8,
   "metadata": {
    "scrolled": true,
    "slideshow": {
     "slide_type": "fragment"
    }
   },
   "outputs": [
    {
     "data": {
      "text/html": [
       "<strong>1:</strong> 80.1860573777451"
      ],
      "text/latex": [
       "\\textbf{1:} 80.1860573777451"
      ],
      "text/markdown": [
       "**1:** 80.1860573777451"
      ],
      "text/plain": [
       "       1 \n",
       "80.18606 "
      ]
     },
     "metadata": {},
     "output_type": "display_data"
    }
   ],
   "source": [
    "max <- data.frame(x1 = 0.361, x2 = 0.257) # Die x,x2 (coded Units) Werte für die Prognose kommen aus der Berechnung oben\n",
    "predict(model, max)"
   ]
  },
  {
   "cell_type": "markdown",
   "metadata": {
    "slideshow": {
     "slide_type": "fragment"
    }
   },
   "source": [
    "## <center>Da Modell prognostiziert uns ein maximalen Response von 80,2% <center>"
   ]
  },
  {
   "cell_type": "code",
   "execution_count": 9,
   "metadata": {},
   "outputs": [
    {
     "name": "stdout",
     "output_type": "stream",
     "text": [
      "  run.order std.order x1.as.is x2.as.is\n",
      "1         1         1       -1       -1\n",
      "2         2         2        1       -1\n",
      "3         3         3       -1        1\n",
      "4         4         4        1        1\n",
      "5         5         5        0        0\n",
      "6         6         6        0        0\n",
      "7         7         7        0        0\n",
      "8         8         8        0        0\n",
      "9         9         9        0        0\n",
      "\n",
      "Data are stored in coded form using these coding formulas ...\n",
      "x1 ~ x1.as.is\n",
      "name ~ x2.as.is\n"
     ]
    }
   ],
   "source": [
    "library(rsm)\n",
    "\n",
    "# creates design with central points:\n",
    "dsg <- cube(2, n0 = 5, randomize = FALSE)\n",
    "colnames(dsg)[4]  <- \"name\"\n",
    "#dsg$Zeit <- 5*x1 +85\n",
    "\n",
    "print(dsg)\n"
   ]
  },
  {
   "cell_type": "code",
   "execution_count": null,
   "metadata": {},
   "outputs": [],
   "source": []
  },
  {
   "cell_type": "code",
   "execution_count": null,
   "metadata": {},
   "outputs": [],
   "source": []
  },
  {
   "cell_type": "code",
   "execution_count": null,
   "metadata": {},
   "outputs": [],
   "source": []
  },
  {
   "cell_type": "code",
   "execution_count": null,
   "metadata": {},
   "outputs": [],
   "source": []
  },
  {
   "cell_type": "code",
   "execution_count": null,
   "metadata": {},
   "outputs": [],
   "source": []
  },
  {
   "cell_type": "code",
   "execution_count": null,
   "metadata": {},
   "outputs": [],
   "source": []
  },
  {
   "cell_type": "code",
   "execution_count": null,
   "metadata": {},
   "outputs": [],
   "source": []
  },
  {
   "cell_type": "code",
   "execution_count": null,
   "metadata": {},
   "outputs": [],
   "source": []
  },
  {
   "cell_type": "code",
   "execution_count": 10,
   "metadata": {
    "scrolled": false,
    "slideshow": {
     "slide_type": "subslide"
    }
   },
   "outputs": [
    {
     "data": {
      "text/plain": [
       "\n",
       "Call:\n",
       "lm(formula = y ~ P * T)\n",
       "\n",
       "Residuals:\n",
       "   1    2    3    4    5 \n",
       "17.2 -4.3 -4.3 -4.3 -4.3 \n",
       "\n",
       "Coefficients:\n",
       "            Estimate Std. Error t value Pr(>|t|)  \n",
       "(Intercept)  389.800      8.600  45.326   0.0140 *\n",
       "P            134.000      9.615  13.936   0.0456 *\n",
       "T             55.000      9.615   5.720   0.1102  \n",
       "P:T           -3.500      9.615  -0.364   0.7778  \n",
       "---\n",
       "Signif. codes:  0 '***' 0.001 '**' 0.01 '*' 0.05 '.' 0.1 ' ' 1\n",
       "\n",
       "Residual standard error: 19.23 on 1 degrees of freedom\n",
       "Multiple R-squared:  0.9956,\tAdjusted R-squared:  0.9825 \n",
       "F-statistic: 75.69 on 3 and 1 DF,  p-value: 0.08425\n"
      ]
     },
     "metadata": {},
     "output_type": "display_data"
    },
    {
     "data": {
      "image/png": "[encoded data removed]",
      "text/plain": [
       "plot without title"
      ]
     },
     "metadata": {
      "image/png": {
       "height": 420,
       "width": 420
      }
     },
     "output_type": "display_data"
    }
   ],
   "source": [
    "P <- c(  0,  -1,  +1,  -1,  +1)\n",
    "T <- c(  0,  -1,  -1,  +1,  +1)\n",
    "y <- c(407, 193, 468, 310, 571) #Auswirkung: nullpunkt,unten links,unten rechts,oben links,oben rechts\n",
    "mod.base.1 <- lm(y ~ P*T)\n",
    "summary(mod.base.1)\n",
    "r=contourPlot(mod.base.1, \"P\", \"T\")"
   ]
  },
  {
   "cell_type": "code",
   "execution_count": null,
   "metadata": {},
   "outputs": [],
   "source": []
  },
  {
   "cell_type": "code",
   "execution_count": null,
   "metadata": {},
   "outputs": [],
   "source": []
  },
  {
   "cell_type": "code",
   "execution_count": 11,
   "metadata": {},
   "outputs": [
    {
     "data": {
      "text/plain": [
       "\n",
       "Call:\n",
       "lm(formula = y ~ P * T)\n",
       "\n",
       "Residuals:\n",
       "   1    2    3    4    5 \n",
       "19.2 -4.8 -4.8 -4.8 -4.8 \n",
       "\n",
       "Coefficients:\n",
       "            Estimate Std. Error t value Pr(>|t|)   \n",
       "(Intercept)   660.30       9.60  68.781  0.00926 **\n",
       "P              55.00      10.73   5.124  0.12269   \n",
       "T              26.00      10.73   2.422  0.24924   \n",
       "P:T            -3.50      10.73  -0.326  0.79932   \n",
       "---\n",
       "Signif. codes:  0 '***' 0.001 '**' 0.01 '*' 0.05 '.' 0.1 ' ' 1\n",
       "\n",
       "Residual standard error: 21.47 on 1 degrees of freedom\n",
       "Multiple R-squared:  0.9699,\tAdjusted R-squared:  0.8796 \n",
       "F-statistic: 10.74 on 3 and 1 DF,  p-value: 0.2198\n"
      ]
     },
     "metadata": {},
     "output_type": "display_data"
    },
    {
     "data": {
      "image/png": "[encoded data removed]",
      "text/plain": [
       "plot without title"
      ]
     },
     "metadata": {
      "image/png": {
       "height": 420,
       "width": 420
      }
     },
     "output_type": "display_data"
    }
   ],
   "source": [
    "P <- c(  0,  -1,  +1,  -1,  +1)\n",
    "T <- c(  0,  -1,  -1,  +1,  +1)\n",
    "y <- c(679.5, 571, 688, 630, 733) #Auswirkung: nullpunkt,unten links,unten rechts,oben links,oben rechts\n",
    "mod.base.1 <- lm(y ~ P*T)\n",
    "summary(mod.base.1)\n",
    "r=contourPlot(mod.base.1, \"P\", \"T\")"
   ]
  }
 ],
 "metadata": {
  "celltoolbar": "Slideshow",
  "kernelspec": {
   "display_name": "R",
   "language": "R",
   "name": "ir"
  },
  "language_info": {
   "codemirror_mode": "r",
   "file_extension": ".r",
   "mimetype": "text/x-r-source",
   "name": "R",
   "pygments_lexer": "r",
   "version": "4.0.3"
  }
 },
 "nbformat": 4,
 "nbformat_minor": 4
}
