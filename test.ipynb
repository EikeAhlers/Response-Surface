{
 "cells": [
  {
   "cell_type": "markdown",
   "metadata": {
    "slideshow": {
     "slide_type": "slide"
    }
   },
   "source": [
    "## <center> Response Surface Methode <br> am Beispiel Bieranalytik <center>\n",
    "#    <center> von Eike Ahlers <center>"
   ]
  },
  {
   "cell_type": "markdown",
   "metadata": {
    "slideshow": {
     "slide_type": "slide"
    }
   },
   "source": [
    "# <center>Gliederung<center>\n",
    "\n",
    "- Grundlagen\n",
    "- Vorgehensweise\n",
    "- Auswertung\n",
    "- Übung\n"
   ]
  },
  {
   "cell_type": "markdown",
   "metadata": {
    "slideshow": {
     "slide_type": "slide"
    }
   },
   "source": [
    "# <center>Grundlagen<center>"
   ]
  },
  {
   "cell_type": "markdown",
   "metadata": {
    "slideshow": {
     "slide_type": "subslide"
    }
   },
   "source": [
    "# <center>Was ist die Response Surface Methode<center>\n",
    "\n",
    "- Sammlung statischer und mathematischer Methoden zur Optimierung von Systemen\n",
    "- Die Auswirkung y = g(x1,...,xn) +ε, wobei n = Anzahl der Einflussfaktoren, \n",
    "    <br> ε = unbekannter Fehler\n",
    "\n"
   ]
  },
  {
   "attachments": {},
   "cell_type": "markdown",
   "metadata": {
    "slideshow": {
     "slide_type": "subslide"
    }
   },
   "source": [
    "# <center>Ziele der RSM<center>\n",
    "\n",
    "- Prozessoptimierung\n",
    "- beste Kombination von Variablen mit dem größten Response\n",
    "- möglichst wenige Experimente"
   ]
  },
  {
   "attachments": {},
   "cell_type": "markdown",
   "metadata": {
    "slideshow": {
     "slide_type": "subslide"
    }
   },
   "source": [
    "Idee der RSM\n",
    "\n",
    "- Aus Experimente weites vorgehen erschließen\n",
    "- Resultat der Modelbildung ist eine Gleichung\n"
   ]
  },
  {
   "cell_type": "markdown",
   "metadata": {
    "slideshow": {
     "slide_type": "subslide"
    }
   },
   "source": [
    "Nachteil One-Faktor-At-A-Time\n",
    "\n",
    "- RSM = Änderung mehrerer Faktoren pro Experiment\n",
    "- COST = Änderungng eines Faktors pro Experiment"
   ]
  },
  {
   "cell_type": "markdown",
   "metadata": {
    "slideshow": {
     "slide_type": "subslide"
    }
   },
   "source": [
    "<center><video data-autoplay src=\"test.mp4\"></video><center>"
   ]
  },
  {
   "cell_type": "markdown",
   "metadata": {
    "slideshow": {
     "slide_type": "slide"
    }
   },
   "source": [
    "# <center>Vorgehensweise<center>\n",
    "<center><img src=\"RSM1.png\"  height=\"400\" width=\"800\"><center>\n"
   ]
  },
  {
   "cell_type": "markdown",
   "metadata": {
    "slideshow": {
     "slide_type": "subslide"
    }
   },
   "source": [
    "Der optimale Betriebsbereich y befindet sich im roten Bereich. Es wird versucht den Prozess immer näher in deisen Bereich zu bewegen.\n",
    "Zunächst befindet sich der Prozess weit weg und wird mittels faktorielle Experimente in Richtung des optimane Responses gelenkt.\n",
    "Befindet sich der Prozess in der Nähe vom Optimum werden genauere Methoden angewendet. \n",
    "So wird der Rahmen der Untersuchungen immer weiter in Richtung des Optimums geleitet."
   ]
  },
  {
   "cell_type": "markdown",
   "metadata": {
    "code_folding": [],
    "slideshow": {
     "slide_type": "slide"
    }
   },
   "source": [
    "# <center>Beispiel Screening (Popcorn)<center>\n",
    "\n",
    "\n",
    "-2 Faktoren: (Ölsorte und Zeit)"
   ]
  },
  {
   "cell_type": "markdown",
   "metadata": {
    "slideshow": {
     "slide_type": "fragment"
    }
   },
   "source": [
    "-> Nur Faktor A ist relevant. B kann vernachlässigt werden"
   ]
  },
  {
   "cell_type": "markdown",
   "metadata": {
    "slideshow": {
     "slide_type": "subslide"
    }
   },
   "source": [
    "<center><video data-autoplay src=\"SPlot.mp4\"></video><center>"
   ]
  },
  {
   "cell_type": "markdown",
   "metadata": {
    "slideshow": {
     "slide_type": "subslide"
    }
   },
   "source": [
    "Konturplot"
   ]
  },
  {
   "cell_type": "markdown",
   "metadata": {
    "slideshow": {
     "slide_type": "subslide"
    }
   },
   "source": [
    "<center><video data-autoplay src=\"CPlot.mp4\"></video><center>"
   ]
  },
  {
   "cell_type": "markdown",
   "metadata": {
    "slideshow": {
     "slide_type": "slide"
    }
   },
   "source": [
    "R Code Beispiele"
   ]
  },
  {
   "cell_type": "code",
   "execution_count": 6,
   "metadata": {
    "scrolled": false,
    "slideshow": {
     "slide_type": "subslide"
    }
   },
   "outputs": [
    {
     "data": {
      "image/png": "[encoded data removed]",
      "text/plain": [
       "plot without title"
      ]
     },
     "metadata": {
      "image/png": {
       "height": 420,
       "width": 420
      }
     },
     "output_type": "display_data"
    },
    {
     "data": {
      "image/png": "[encoded data removed]",
      "text/plain": [
       "plot without title"
      ]
     },
     "metadata": {
      "image/png": {
       "height": 420,
       "width": 420
      }
     },
     "output_type": "display_data"
    }
   ],
   "source": [
    "\n",
    "library(pid)\n",
    "A    <- c(-1, +1, -1, +1) # Code Einheiten für A\n",
    "B    <- c(-1, -1, +1, +1) # Code Einheiten für B\n",
    "y    <- c(74, 106, 76, 104) # Auswirkung: unten links,unten rechts,oben links,oben rechts\n",
    "\n",
    "model   <- lm(y ~ A * B ) # Haupteffekte mit Interaktionen\n",
    "\n",
    "Konturdiagramm = contourPlot(model)\n",
    "ParetoPlot = paretoPlot(model)"
   ]
  },
  {
   "cell_type": "markdown",
   "metadata": {
    "slideshow": {
     "slide_type": "slide"
    }
   },
   "source": [
    "Beispiel 2"
   ]
  },
  {
   "cell_type": "code",
   "execution_count": 7,
   "metadata": {
    "slideshow": {
     "slide_type": "subslide"
    }
   },
   "outputs": [
    {
     "data": {
      "text/plain": [
       "\n",
       "Call:\n",
       "lm(formula = y ~ P * T)\n",
       "\n",
       "Residuals:\n",
       "   1    2    3    4    5 \n",
       "17.2 -4.3 -4.3 -4.3 -4.3 \n",
       "\n",
       "Coefficients:\n",
       "            Estimate Std. Error t value Pr(>|t|)  \n",
       "(Intercept)  389.800      8.600  45.326   0.0140 *\n",
       "P            134.000      9.615  13.936   0.0456 *\n",
       "T             55.000      9.615   5.720   0.1102  \n",
       "P:T           -3.500      9.615  -0.364   0.7778  \n",
       "---\n",
       "Signif. codes:  0 '***' 0.001 '**' 0.01 '*' 0.05 '.' 0.1 ' ' 1\n",
       "\n",
       "Residual standard error: 19.23 on 1 degrees of freedom\n",
       "Multiple R-squared:  0.9956,\tAdjusted R-squared:  0.9825 \n",
       "F-statistic: 75.69 on 3 and 1 DF,  p-value: 0.08425\n"
      ]
     },
     "metadata": {},
     "output_type": "display_data"
    },
    {
     "data": {
      "image/png": "[encoded data removed]",
      "text/plain": [
       "plot without title"
      ]
     },
     "metadata": {
      "image/png": {
       "height": 420,
       "width": 420
      }
     },
     "output_type": "display_data"
    }
   ],
   "source": [
    "P <- c(  0,  -1,  +1,  -1,  +1)\n",
    "T <- c(  0,  -1,  -1,  +1,  +1)\n",
    "y <- c(407, 193, 468, 310, 571) #Auswirkung: nullpunkt,unten links,unten rechts,oben links,oben rechts\n",
    "mod.base.1 <- lm(y ~ P*T)\n",
    "summary(mod.base.1)\n",
    "r=contourPlot(mod.base.1, \"P\", \"T\")"
   ]
  }
 ],
 "metadata": {
  "celltoolbar": "Slideshow",
  "kernelspec": {
   "display_name": "R",
   "language": "R",
   "name": "ir"
  },
  "language_info": {
   "codemirror_mode": "r",
   "file_extension": ".r",
   "mimetype": "text/x-r-source",
   "name": "R",
   "pygments_lexer": "r",
   "version": "4.0.3"
  },
   "livereveal": {
   "autolaunch": true,
   "scroll": true
  }
 },
 "nbformat": 4,
 "nbformat_minor": 4
}
